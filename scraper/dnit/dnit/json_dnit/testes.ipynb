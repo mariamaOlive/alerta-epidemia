{
 "cells": [
  {
   "cell_type": "code",
   "execution_count": 1,
   "metadata": {},
   "outputs": [],
   "source": [
    "import json"
   ]
  },
  {
   "cell_type": "code",
   "execution_count": 5,
   "metadata": {},
   "outputs": [],
   "source": [
    "def read_file(file_name):\n",
    "    f = open(file_name)\n",
    "\n",
    "    # returns JSON object as a dictionary\n",
    "    data = json.load(f)\n",
    "    f.close()\n",
    "    return data\n",
    "\n",
    "def extract_points(dic_json):\n",
    "    list_json = dic_json[\"dado\"]\n",
    "    list_points = []\n",
    "\n",
    "    for point in list_json:\n",
    "        list_points.append(point[\"idPosto\"])\n",
    "\n",
    "    return list_points"
   ]
  },
  {
   "cell_type": "code",
   "execution_count": 6,
   "metadata": {},
   "outputs": [
    {
     "name": "stdout",
     "output_type": "stream",
     "text": [
      "[211, 207, 49, 214, 263, 95, 94, 93, 92, 67, 66, 273, 119, 237, 87, 115, 269, 85, 84, 48, 296, 2, 53, 121, 275, 52, 262, 209, 114, 236, 234, 113, 112, 69, 68, 300, 118, 99, 274, 272, 265, 86, 88, 89, 210, 240, 235, 71, 295, 267, 264, 266, 90, 271, 299, 270, 91, 72, 232]\n"
     ]
    }
   ],
   "source": [
    "file = \"postos_2016_1.json\"\n",
    "dic_points  = read_file(file)\n",
    "list_points = extract_points(dic_points)\n",
    "print(list_points)"
   ]
  },
  {
   "cell_type": "code",
   "execution_count": 7,
   "metadata": {},
   "outputs": [
    {
     "data": {
      "text/plain": [
       "1687297534755"
      ]
     },
     "execution_count": 7,
     "metadata": {},
     "output_type": "execute_result"
    }
   ],
   "source": [
    "import time\n",
    "\n",
    "def current_milli_time():\n",
    "    return round(time.time() * 1000)\n",
    "\n",
    "current_milli_time()"
   ]
  }
 ],
 "metadata": {
  "kernelspec": {
   "display_name": "alerta_epidemia",
   "language": "python",
   "name": "python3"
  },
  "language_info": {
   "codemirror_mode": {
    "name": "ipython",
    "version": 3
   },
   "file_extension": ".py",
   "mimetype": "text/x-python",
   "name": "python",
   "nbconvert_exporter": "python",
   "pygments_lexer": "ipython3",
   "version": "3.9.13"
  },
  "orig_nbformat": 4
 },
 "nbformat": 4,
 "nbformat_minor": 2
}
