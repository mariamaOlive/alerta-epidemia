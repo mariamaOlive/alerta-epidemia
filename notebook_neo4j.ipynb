{
 "cells": [
  {
   "attachments": {},
   "cell_type": "markdown",
   "metadata": {},
   "source": [
    "# Neo4j Notebook\n",
    "\n",
    "Notebook criado para executar comandos do Neo4j fora do browser do banco.\n"
   ]
  },
  {
   "cell_type": "code",
   "execution_count": 3,
   "metadata": {},
   "outputs": [],
   "source": [
    "from neo4j import GraphDatabase\n",
    "import pandas as pd"
   ]
  },
  {
   "cell_type": "code",
   "execution_count": 4,
   "metadata": {},
   "outputs": [],
   "source": [
    "class ConnectionNeo4j():\n",
    "\n",
    "    #Abrindo conexao\n",
    "    uri = \"bolt://localhost:11003\" #local BD\n",
    "    password = \"password\" #local BD\n",
    "    user = \"neo4j\"\n",
    "    driver = GraphDatabase.driver(uri, auth=(user, password))\n",
    "\n",
    "    #Fechando conexao\n",
    "    def close(self):\n",
    "        self.driver.close()\n",
    "\n",
    "    #Salvando todos as possível para todas as cidades\n",
    "    def salvarPathCidades(self, cityName):\n",
    "        self.driver = GraphDatabase.driver(self.uri, auth=(self.user, self.password))\n",
    "\n",
    "        with self.driver.session(database=\"neo4j\") as session:\n",
    "            result = session.read_transaction(self._pathCidade, cityName)\n",
    "\n",
    "            return result\n",
    "        \n",
    "\n",
    "    #Funcao com a query de busca\n",
    "    @staticmethod\n",
    "    def _pathCidade(tx, cityName):\n",
    "        query = (\n",
    "            \"WITH \\\"MATCH (cities:Cidade) \"\n",
    "            \"WITH collect(cities) AS nodes\"\n",
    "            \" UNWIND nodes AS ct\"\n",
    "            \" MATCH (source:Cidade {cod_mun:\"+cityName+\"}), (target:Cidade {cod_mun: ct.cod_mun})\"\n",
    "            \" CALL gds.shortestPath.dijkstra.stream('grafoFluxo', {\"\n",
    "            \"     sourceNode: source,\"\n",
    "            \"     targetNode: target,\"\n",
    "            \"     relationshipWeightProperty: 'fluxo_geral'})\"\n",
    "            \" YIELD index, sourceNode, targetNode, totalCost, nodeIds, costs, path\"\n",
    "            \" RETURN\"\n",
    "            \"     index as index,\"\n",
    "            \"     gds.util.asNode(sourceNode).cod_mun AS cod_mun_origem,\"\n",
    "            \"     gds.util.asNode(targetNode).cod_mun AS cod_mun_destino,\"\n",
    "            \"     totalCost as totalCost,\"\n",
    "            \"     [nodeId IN nodeIds | gds.util.asNode(nodeId).cod_mun] AS cod_nos,\"\n",
    "            \"     costs as costs\\\" AS query\"\n",
    "            f\" CALL apoc.export.csv.query(query, \\\"cidades/{cityName}.csv\\\"\"+\", {})\"\n",
    "            \" YIELD file, source, format, nodes, relationships, properties, time, rows, batchSize, batches, done, data\"\n",
    "            \" RETURN file, source, format, nodes, relationships, properties, time, rows, batchSize, batches, done, data;\"\n",
    "        )\n",
    "        \n",
    "        result = tx.run(query)\n",
    "        return result.values(\"file\")\n",
    "\n"
   ]
  },
  {
   "cell_type": "code",
   "execution_count": 5,
   "metadata": {},
   "outputs": [
    {
     "name": "stderr",
     "output_type": "stream",
     "text": [
      "/var/folders/rv/x_8qm7392xv0jjj7dh82d9nm0000gn/T/ipykernel_33435/2667979410.py:18: DeprecationWarning: read_transaction has been renamed to execute_read\n",
      "  result = session.read_transaction(self._pathCidade, cityName)\n"
     ]
    },
    {
     "name": "stdout",
     "output_type": "stream",
     "text": [
      "[['cidades/1100106.csv']]\n"
     ]
    },
    {
     "name": "stderr",
     "output_type": "stream",
     "text": [
      "/var/folders/rv/x_8qm7392xv0jjj7dh82d9nm0000gn/T/ipykernel_33435/2667979410.py:18: DeprecationWarning: read_transaction has been renamed to execute_read\n",
      "  result = session.read_transaction(self._pathCidade, cityName)\n"
     ]
    },
    {
     "name": "stdout",
     "output_type": "stream",
     "text": [
      "[['cidades/1100205.csv']]\n"
     ]
    },
    {
     "name": "stderr",
     "output_type": "stream",
     "text": [
      "/var/folders/rv/x_8qm7392xv0jjj7dh82d9nm0000gn/T/ipykernel_33435/2667979410.py:18: DeprecationWarning: read_transaction has been renamed to execute_read\n",
      "  result = session.read_transaction(self._pathCidade, cityName)\n"
     ]
    },
    {
     "name": "stdout",
     "output_type": "stream",
     "text": [
      "[['cidades/1200054.csv']]\n"
     ]
    },
    {
     "name": "stderr",
     "output_type": "stream",
     "text": [
      "/var/folders/rv/x_8qm7392xv0jjj7dh82d9nm0000gn/T/ipykernel_33435/2667979410.py:18: DeprecationWarning: read_transaction has been renamed to execute_read\n",
      "  result = session.read_transaction(self._pathCidade, cityName)\n"
     ]
    }
   ],
   "source": [
    "dfCidades = pd.read_csv(\"dados_final/2_dados_sem_enriquecimento/arr_mun.csv\")\n",
    "listCodCidade = dfCidades.cod_cidade.to_list()\n",
    "\n",
    "cnnNeo = ConnectionNeo4j()\n",
    "for codigoCidade in listCodCidade:\n",
    "    file = cnnNeo.salvarPathCidades(str(codigoCidade))\n",
    "    print(file)\n",
    "    \n",
    "cnnNeo.close()"
   ]
  }
 ],
 "metadata": {
  "kernelspec": {
   "display_name": "alerta_epidemia",
   "language": "python",
   "name": "python3"
  },
  "language_info": {
   "codemirror_mode": {
    "name": "ipython",
    "version": 3
   },
   "file_extension": ".py",
   "mimetype": "text/x-python",
   "name": "python",
   "nbconvert_exporter": "python",
   "pygments_lexer": "ipython3",
   "version": "3.9.13"
  },
  "orig_nbformat": 4
 },
 "nbformat": 4,
 "nbformat_minor": 2
}
