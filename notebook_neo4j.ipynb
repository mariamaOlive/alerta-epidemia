{
 "cells": [
  {
   "attachments": {},
   "cell_type": "markdown",
   "metadata": {},
   "source": [
    "# Neo4j Notebook\n",
    "\n",
    "Notebook criado para executar comandos do Neo4j fora do browser do banco.\n"
   ]
  },
  {
   "cell_type": "code",
   "execution_count": 1,
   "metadata": {},
   "outputs": [],
   "source": [
    "from neo4j import GraphDatabase\n",
    "import pandas as pd\n",
    "import numpy as np\n",
    "import os\n",
    "import glob"
   ]
  },
  {
   "cell_type": "code",
   "execution_count": 2,
   "metadata": {},
   "outputs": [],
   "source": [
    "class ConnectionNeo4j():\n",
    "\n",
    "    #Abrindo conexao\n",
    "    uri = \"bolt://localhost:11003\" #local BD\n",
    "    password = \"password\" #local BD\n",
    "    user = \"neo4j\"\n",
    "    driver = GraphDatabase.driver(uri, auth=(user, password))\n",
    "\n",
    "    #Fechando conexao\n",
    "    def close(self):\n",
    "        self.driver.close()\n",
    "\n",
    "    #Salvando todos as possível para todas as cidades\n",
    "    def salvarPathCidades(self, cityName):\n",
    "        self.driver = GraphDatabase.driver(self.uri, auth=(self.user, self.password))\n",
    "\n",
    "        with self.driver.session(database=\"neo4j\") as session:\n",
    "            result = session.read_transaction(self._pathCidade, cityName)\n",
    "\n",
    "            return result\n",
    "        \n",
    "\n",
    "    #Funcao com a query de busca\n",
    "    @staticmethod\n",
    "    def _pathCidade(tx, cityName):\n",
    "        query = (\n",
    "            \"WITH \\\"MATCH (source:Cidade {cod_mun:\"+cityName+\"})\"\n",
    "            \" CALL gds.allShortestPaths.dijkstra.stream('grafoFluxo', {\"\n",
    "            \"     sourceNode: source,\"\n",
    "            \"     relationshipWeightProperty: 'fluxo_geral'})\"\n",
    "            \" YIELD index, sourceNode, targetNode, totalCost, nodeIds, costs, path\"\n",
    "            \" RETURN\"\n",
    "            \"     index as index,\"\n",
    "            \"     gds.util.asNode(sourceNode).cod_mun AS cod_mun_origem,\"\n",
    "            \"     gds.util.asNode(targetNode).cod_mun AS cod_mun_destino,\"\n",
    "            \"     totalCost as totalCost,\"\n",
    "            \"     [nodeId IN nodeIds | gds.util.asNode(nodeId).cod_mun] AS cod_nos,\"\n",
    "            \"     costs as costs\\\" AS query\"\n",
    "            f\" CALL apoc.export.csv.query(query, \\\"cidades/{cityName}.csv\\\"\"+\", {})\"\n",
    "            \" YIELD file, source, format, nodes, relationships, properties, time, rows, batchSize, batches, done, data\"\n",
    "            \" RETURN file, source, format, nodes, relationships, properties, time, rows, batchSize, batches, done, data;\"\n",
    "        )\n",
    "        \n",
    "        result = tx.run(query)\n",
    "        return result.values(\"file\")\n",
    "\n"
   ]
  },
  {
   "cell_type": "code",
   "execution_count": null,
   "metadata": {},
   "outputs": [],
   "source": [
    "dfCidades = pd.read_csv(\"dados_final/2_dados_sem_enriquecimento/arr_mun.csv\")\n",
    "listCodCidade = dfCidades.cod_cidade.to_list()\n",
    "\n",
    "cnnNeo = ConnectionNeo4j()\n",
    "for codigoCidade in listCodCidade:\n",
    "    file = cnnNeo.salvarPathCidades(str(codigoCidade))\n",
    "    print(file)\n",
    "    \n",
    "cnnNeo.close()"
   ]
  },
  {
   "attachments": {},
   "cell_type": "markdown",
   "metadata": {},
   "source": [
    "### Pós-processamento dos dados"
   ]
  },
  {
   "cell_type": "code",
   "execution_count": 40,
   "metadata": {},
   "outputs": [
    {
     "data": {
      "text/plain": [
       "'/Users/mariama/Library/Application Support/Neo4j Desktop/Application/relate-data/dbmss/dbms-2301576f-ef62-43fd-a1ce-7831cbf6f537/import/cidades/2310209.csv'"
      ]
     },
     "execution_count": 40,
     "metadata": {},
     "output_type": "execute_result"
    }
   ],
   "source": [
    "csvFiles[0]"
   ]
  },
  {
   "cell_type": "code",
   "execution_count": 44,
   "metadata": {},
   "outputs": [],
   "source": [
    "# Carregando lista de arquivos .csv\n",
    "path = \"/Users/mariama/Library/Application Support/Neo4j Desktop/Application/relate-data/dbmss/dbms-2301576f-ef62-43fd-a1ce-7831cbf6f537/import/cidades/\"\n",
    "csvFiles = glob.glob(os.path.join(path, \"*.csv\"))\n",
    "\n",
    "# Carregando arquivos em uma lista de dataframes\n",
    "dfList = []\n",
    "\n",
    "for f in csvFiles: \n",
    "    dfList.append(pd.read_csv(f))"
   ]
  },
  {
   "cell_type": "code",
   "execution_count": 38,
   "metadata": {},
   "outputs": [],
   "source": [
    "def convert(lst):\n",
    "    return [ -i for i in lst ]"
   ]
  },
  {
   "cell_type": "code",
   "execution_count": 36,
   "metadata": {},
   "outputs": [],
   "source": [
    "# f = \"/Users/mariama/Library/Application Support/Neo4j Desktop/Application/relate-data/dbmss/dbms-2301576f-ef62-43fd-a1ce-7831cbf6f537/import/cidades/1100015.csv\"\n",
    "# df_list = [pd.read_csv(f)]"
   ]
  },
  {
   "cell_type": "code",
   "execution_count": 45,
   "metadata": {},
   "outputs": [],
   "source": [
    "for df, filePath in zip(dfList, csvFiles):\n",
    "    path, fileName = os.path.split(filePath)\n",
    "    df[\"totalCost\"] = -1 * df[\"totalCost\"]\n",
    "    df['costs'] = df['costs'].apply(eval)\n",
    "    df['costs'] = df['costs'].apply(lambda x: convert(x))\n",
    "    df.rename(columns={'totalCost': 'probabilidade_total', 'costs': 'probabilidade_caminho'}, inplace=True)\n",
    "    df.drop(columns=['index'], inplace=True)\n",
    "    df.to_csv(f\"dados_final/4_dados_calculados/paths/{fileName}\", index=False)"
   ]
  }
 ],
 "metadata": {
  "kernelspec": {
   "display_name": "alerta_epidemia",
   "language": "python",
   "name": "python3"
  },
  "language_info": {
   "codemirror_mode": {
    "name": "ipython",
    "version": 3
   },
   "file_extension": ".py",
   "mimetype": "text/x-python",
   "name": "python",
   "nbconvert_exporter": "python",
   "pygments_lexer": "ipython3",
   "version": "3.9.13"
  },
  "orig_nbformat": 4,
  "vscode": {
   "interpreter": {
    "hash": "9592a5459ae577a64a4b4327be6192bc1dd736f2267b81751e05dc6d005bc327"
   }
  }
 },
 "nbformat": 4,
 "nbformat_minor": 2
}
