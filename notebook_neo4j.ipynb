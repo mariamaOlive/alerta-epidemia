{
 "cells": [
  {
   "attachments": {},
   "cell_type": "markdown",
   "metadata": {},
   "source": [
    "# Neo4j Notebook\n",
    "\n",
    "Notebook criado para executar comandos do Neo4j fora do browser do banco.\n"
   ]
  },
  {
   "cell_type": "code",
   "execution_count": 1,
   "metadata": {},
   "outputs": [],
   "source": [
    "from neo4j import GraphDatabase\n",
    "import pandas as pd"
   ]
  },
  {
   "cell_type": "code",
   "execution_count": 2,
   "metadata": {},
   "outputs": [],
   "source": [
    "class ConnectionNeo4j():\n",
    "\n",
    "    #Abrindo conexao\n",
    "    uri = \"bolt://localhost:11003\" #local BD\n",
    "    password = \"password\" #local BD\n",
    "    user = \"neo4j\"\n",
    "    driver = GraphDatabase.driver(uri, auth=(user, password))\n",
    "\n",
    "    #Fechando conexao\n",
    "    def close(self):\n",
    "        self.driver.close()\n",
    "\n",
    "    #Salvando todos as possível para todas as cidades\n",
    "    def salvarPathCidades(self, cityName):\n",
    "        self.driver = GraphDatabase.driver(self.uri, auth=(self.user, self.password))\n",
    "\n",
    "        with self.driver.session(database=\"neo4j\") as session:\n",
    "            result = session.read_transaction(self._pathCidade, cityName)\n",
    "\n",
    "            return result\n",
    "        \n",
    "\n",
    "    #Funcao com a query de busca\n",
    "    @staticmethod\n",
    "    def _pathCidade(tx, cityName):\n",
    "        query = (\n",
    "            \"WITH \\\"MATCH (source:Cidade {cod_mun:\"+cityName+\"})\"\n",
    "            \" CALL gds.allShortestPaths.dijkstra.stream('grafoFluxo', {\"\n",
    "            \"     sourceNode: source,\"\n",
    "            \"     relationshipWeightProperty: 'fluxo_geral'})\"\n",
    "            \" YIELD index, sourceNode, targetNode, totalCost, nodeIds, costs, path\"\n",
    "            \" RETURN\"\n",
    "            \"     index as index,\"\n",
    "            \"     gds.util.asNode(sourceNode).cod_mun AS cod_mun_origem,\"\n",
    "            \"     gds.util.asNode(targetNode).cod_mun AS cod_mun_destino,\"\n",
    "            \"     totalCost as totalCost,\"\n",
    "            \"     [nodeId IN nodeIds | gds.util.asNode(nodeId).cod_mun] AS cod_nos,\"\n",
    "            \"     costs as costs\\\" AS query\"\n",
    "            f\" CALL apoc.export.csv.query(query, \\\"cidades/{cityName}.csv\\\"\"+\", {})\"\n",
    "            \" YIELD file, source, format, nodes, relationships, properties, time, rows, batchSize, batches, done, data\"\n",
    "            \" RETURN file, source, format, nodes, relationships, properties, time, rows, batchSize, batches, done, data;\"\n",
    "        )\n",
    "        \n",
    "        result = tx.run(query)\n",
    "        return result.values(\"file\")\n",
    "\n"
   ]
  },
  {
   "cell_type": "code",
   "execution_count": 3,
   "metadata": {},
   "outputs": [
    {
     "name": "stderr",
     "output_type": "stream",
     "text": [
      "/var/folders/rv/x_8qm7392xv0jjj7dh82d9nm0000gn/T/ipykernel_35293/3621583968.py:18: DeprecationWarning: read_transaction has been renamed to execute_read\n",
      "  result = session.read_transaction(self._pathCidade, cityName)\n"
     ]
    },
    {
     "name": "stdout",
     "output_type": "stream",
     "text": [
      "[['cidades/1100106.csv']]\n"
     ]
    },
    {
     "name": "stderr",
     "output_type": "stream",
     "text": [
      "/var/folders/rv/x_8qm7392xv0jjj7dh82d9nm0000gn/T/ipykernel_35293/3621583968.py:18: DeprecationWarning: read_transaction has been renamed to execute_read\n",
      "  result = session.read_transaction(self._pathCidade, cityName)\n"
     ]
    },
    {
     "name": "stdout",
     "output_type": "stream",
     "text": [
      "[['cidades/1100205.csv']]\n"
     ]
    },
    {
     "name": "stderr",
     "output_type": "stream",
     "text": [
      "/var/folders/rv/x_8qm7392xv0jjj7dh82d9nm0000gn/T/ipykernel_35293/3621583968.py:18: DeprecationWarning: read_transaction has been renamed to execute_read\n",
      "  result = session.read_transaction(self._pathCidade, cityName)\n"
     ]
    },
    {
     "name": "stdout",
     "output_type": "stream",
     "text": [
      "[['cidades/1200054.csv']]\n"
     ]
    },
    {
     "name": "stderr",
     "output_type": "stream",
     "text": [
      "/var/folders/rv/x_8qm7392xv0jjj7dh82d9nm0000gn/T/ipykernel_35293/3621583968.py:18: DeprecationWarning: read_transaction has been renamed to execute_read\n",
      "  result = session.read_transaction(self._pathCidade, cityName)\n"
     ]
    },
    {
     "name": "stdout",
     "output_type": "stream",
     "text": [
      "[['cidades/1200104.csv']]\n"
     ]
    },
    {
     "name": "stderr",
     "output_type": "stream",
     "text": [
      "/var/folders/rv/x_8qm7392xv0jjj7dh82d9nm0000gn/T/ipykernel_35293/3621583968.py:18: DeprecationWarning: read_transaction has been renamed to execute_read\n",
      "  result = session.read_transaction(self._pathCidade, cityName)\n"
     ]
    },
    {
     "name": "stdout",
     "output_type": "stream",
     "text": [
      "[['cidades/1303007.csv']]\n"
     ]
    },
    {
     "name": "stderr",
     "output_type": "stream",
     "text": [
      "/var/folders/rv/x_8qm7392xv0jjj7dh82d9nm0000gn/T/ipykernel_35293/3621583968.py:18: DeprecationWarning: read_transaction has been renamed to execute_read\n",
      "  result = session.read_transaction(self._pathCidade, cityName)\n"
     ]
    },
    {
     "name": "stdout",
     "output_type": "stream",
     "text": [
      "[['cidades/1304062.csv']]\n"
     ]
    },
    {
     "name": "stderr",
     "output_type": "stream",
     "text": [
      "/var/folders/rv/x_8qm7392xv0jjj7dh82d9nm0000gn/T/ipykernel_35293/3621583968.py:18: DeprecationWarning: read_transaction has been renamed to execute_read\n",
      "  result = session.read_transaction(self._pathCidade, cityName)\n"
     ]
    },
    {
     "name": "stdout",
     "output_type": "stream",
     "text": [
      "[['cidades/1400159.csv']]\n"
     ]
    },
    {
     "name": "stderr",
     "output_type": "stream",
     "text": [
      "/var/folders/rv/x_8qm7392xv0jjj7dh82d9nm0000gn/T/ipykernel_35293/3621583968.py:18: DeprecationWarning: read_transaction has been renamed to execute_read\n",
      "  result = session.read_transaction(self._pathCidade, cityName)\n"
     ]
    },
    {
     "name": "stdout",
     "output_type": "stream",
     "text": [
      "[['cidades/1501402.csv']]\n"
     ]
    },
    {
     "name": "stderr",
     "output_type": "stream",
     "text": [
      "/var/folders/rv/x_8qm7392xv0jjj7dh82d9nm0000gn/T/ipykernel_35293/3621583968.py:18: DeprecationWarning: read_transaction has been renamed to execute_read\n",
      "  result = session.read_transaction(self._pathCidade, cityName)\n"
     ]
    },
    {
     "name": "stdout",
     "output_type": "stream",
     "text": [
      "[['cidades/1507458.csv']]\n"
     ]
    },
    {
     "name": "stderr",
     "output_type": "stream",
     "text": [
      "/var/folders/rv/x_8qm7392xv0jjj7dh82d9nm0000gn/T/ipykernel_35293/3621583968.py:18: DeprecationWarning: read_transaction has been renamed to execute_read\n",
      "  result = session.read_transaction(self._pathCidade, cityName)\n"
     ]
    },
    {
     "name": "stdout",
     "output_type": "stream",
     "text": [
      "[['cidades/1507904.csv']]\n"
     ]
    },
    {
     "name": "stderr",
     "output_type": "stream",
     "text": [
      "/var/folders/rv/x_8qm7392xv0jjj7dh82d9nm0000gn/T/ipykernel_35293/3621583968.py:18: DeprecationWarning: read_transaction has been renamed to execute_read\n",
      "  result = session.read_transaction(self._pathCidade, cityName)\n"
     ]
    },
    {
     "name": "stdout",
     "output_type": "stream",
     "text": [
      "[['cidades/1600279.csv']]\n"
     ]
    },
    {
     "name": "stderr",
     "output_type": "stream",
     "text": [
      "/var/folders/rv/x_8qm7392xv0jjj7dh82d9nm0000gn/T/ipykernel_35293/3621583968.py:18: DeprecationWarning: read_transaction has been renamed to execute_read\n",
      "  result = session.read_transaction(self._pathCidade, cityName)\n"
     ]
    },
    {
     "name": "stdout",
     "output_type": "stream",
     "text": [
      "[['cidades/1600303.csv']]\n"
     ]
    },
    {
     "name": "stderr",
     "output_type": "stream",
     "text": [
      "/var/folders/rv/x_8qm7392xv0jjj7dh82d9nm0000gn/T/ipykernel_35293/3621583968.py:18: DeprecationWarning: read_transaction has been renamed to execute_read\n",
      "  result = session.read_transaction(self._pathCidade, cityName)\n"
     ]
    },
    {
     "name": "stdout",
     "output_type": "stream",
     "text": [
      "[['cidades/1600501.csv']]\n"
     ]
    },
    {
     "name": "stderr",
     "output_type": "stream",
     "text": [
      "/var/folders/rv/x_8qm7392xv0jjj7dh82d9nm0000gn/T/ipykernel_35293/3621583968.py:18: DeprecationWarning: read_transaction has been renamed to execute_read\n",
      "  result = session.read_transaction(self._pathCidade, cityName)\n"
     ]
    },
    {
     "name": "stdout",
     "output_type": "stream",
     "text": [
      "[['cidades/1713205.csv']]\n"
     ]
    },
    {
     "name": "stderr",
     "output_type": "stream",
     "text": [
      "/var/folders/rv/x_8qm7392xv0jjj7dh82d9nm0000gn/T/ipykernel_35293/3621583968.py:18: DeprecationWarning: read_transaction has been renamed to execute_read\n",
      "  result = session.read_transaction(self._pathCidade, cityName)\n"
     ]
    },
    {
     "name": "stdout",
     "output_type": "stream",
     "text": [
      "[['cidades/1716505.csv']]\n"
     ]
    },
    {
     "name": "stderr",
     "output_type": "stream",
     "text": [
      "/var/folders/rv/x_8qm7392xv0jjj7dh82d9nm0000gn/T/ipykernel_35293/3621583968.py:18: DeprecationWarning: read_transaction has been renamed to execute_read\n",
      "  result = session.read_transaction(self._pathCidade, cityName)\n"
     ]
    },
    {
     "name": "stdout",
     "output_type": "stream",
     "text": [
      "[['cidades/1721208.csv']]\n"
     ]
    },
    {
     "name": "stderr",
     "output_type": "stream",
     "text": [
      "/var/folders/rv/x_8qm7392xv0jjj7dh82d9nm0000gn/T/ipykernel_35293/3621583968.py:18: DeprecationWarning: read_transaction has been renamed to execute_read\n",
      "  result = session.read_transaction(self._pathCidade, cityName)\n"
     ]
    },
    {
     "name": "stdout",
     "output_type": "stream",
     "text": [
      "[['cidades/2100501.csv']]\n"
     ]
    },
    {
     "name": "stderr",
     "output_type": "stream",
     "text": [
      "/var/folders/rv/x_8qm7392xv0jjj7dh82d9nm0000gn/T/ipykernel_35293/3621583968.py:18: DeprecationWarning: read_transaction has been renamed to execute_read\n",
      "  result = session.read_transaction(self._pathCidade, cityName)\n"
     ]
    },
    {
     "name": "stdout",
     "output_type": "stream",
     "text": [
      "[['cidades/2102804.csv']]\n"
     ]
    },
    {
     "name": "stderr",
     "output_type": "stream",
     "text": [
      "/var/folders/rv/x_8qm7392xv0jjj7dh82d9nm0000gn/T/ipykernel_35293/3621583968.py:18: DeprecationWarning: read_transaction has been renamed to execute_read\n",
      "  result = session.read_transaction(self._pathCidade, cityName)\n"
     ]
    },
    {
     "name": "stdout",
     "output_type": "stream",
     "text": [
      "[['cidades/2104057.csv']]\n"
     ]
    },
    {
     "name": "stderr",
     "output_type": "stream",
     "text": [
      "/var/folders/rv/x_8qm7392xv0jjj7dh82d9nm0000gn/T/ipykernel_35293/3621583968.py:18: DeprecationWarning: read_transaction has been renamed to execute_read\n",
      "  result = session.read_transaction(self._pathCidade, cityName)\n"
     ]
    },
    {
     "name": "stdout",
     "output_type": "stream",
     "text": [
      "[['cidades/2105302.csv']]\n"
     ]
    },
    {
     "name": "stderr",
     "output_type": "stream",
     "text": [
      "/var/folders/rv/x_8qm7392xv0jjj7dh82d9nm0000gn/T/ipykernel_35293/3621583968.py:18: DeprecationWarning: read_transaction has been renamed to execute_read\n",
      "  result = session.read_transaction(self._pathCidade, cityName)\n"
     ]
    },
    {
     "name": "stdout",
     "output_type": "stream",
     "text": [
      "[['cidades/2107100.csv']]\n"
     ]
    },
    {
     "name": "stderr",
     "output_type": "stream",
     "text": [
      "/var/folders/rv/x_8qm7392xv0jjj7dh82d9nm0000gn/T/ipykernel_35293/3621583968.py:18: DeprecationWarning: read_transaction has been renamed to execute_read\n",
      "  result = session.read_transaction(self._pathCidade, cityName)\n"
     ]
    },
    {
     "name": "stdout",
     "output_type": "stream",
     "text": [
      "[['cidades/2108207.csv']]\n"
     ]
    },
    {
     "name": "stderr",
     "output_type": "stream",
     "text": [
      "/var/folders/rv/x_8qm7392xv0jjj7dh82d9nm0000gn/T/ipykernel_35293/3621583968.py:18: DeprecationWarning: read_transaction has been renamed to execute_read\n",
      "  result = session.read_transaction(self._pathCidade, cityName)\n"
     ]
    },
    {
     "name": "stdout",
     "output_type": "stream",
     "text": [
      "[['cidades/2109205.csv']]\n"
     ]
    },
    {
     "name": "stderr",
     "output_type": "stream",
     "text": [
      "/var/folders/rv/x_8qm7392xv0jjj7dh82d9nm0000gn/T/ipykernel_35293/3621583968.py:18: DeprecationWarning: read_transaction has been renamed to execute_read\n",
      "  result = session.read_transaction(self._pathCidade, cityName)\n"
     ]
    },
    {
     "name": "stdout",
     "output_type": "stream",
     "text": [
      "[['cidades/2109809.csv']]\n"
     ]
    },
    {
     "name": "stderr",
     "output_type": "stream",
     "text": [
      "/var/folders/rv/x_8qm7392xv0jjj7dh82d9nm0000gn/T/ipykernel_35293/3621583968.py:18: DeprecationWarning: read_transaction has been renamed to execute_read\n",
      "  result = session.read_transaction(self._pathCidade, cityName)\n"
     ]
    },
    {
     "name": "stdout",
     "output_type": "stream",
     "text": [
      "[['cidades/2111300.csv']]\n"
     ]
    },
    {
     "name": "stderr",
     "output_type": "stream",
     "text": [
      "/var/folders/rv/x_8qm7392xv0jjj7dh82d9nm0000gn/T/ipykernel_35293/3621583968.py:18: DeprecationWarning: read_transaction has been renamed to execute_read\n",
      "  result = session.read_transaction(self._pathCidade, cityName)\n"
     ]
    },
    {
     "name": "stdout",
     "output_type": "stream",
     "text": [
      "[['cidades/2200509.csv']]\n"
     ]
    },
    {
     "name": "stderr",
     "output_type": "stream",
     "text": [
      "/var/folders/rv/x_8qm7392xv0jjj7dh82d9nm0000gn/T/ipykernel_35293/3621583968.py:18: DeprecationWarning: read_transaction has been renamed to execute_read\n",
      "  result = session.read_transaction(self._pathCidade, cityName)\n"
     ]
    },
    {
     "name": "stdout",
     "output_type": "stream",
     "text": [
      "[['cidades/2200608.csv']]\n"
     ]
    },
    {
     "name": "stderr",
     "output_type": "stream",
     "text": [
      "/var/folders/rv/x_8qm7392xv0jjj7dh82d9nm0000gn/T/ipykernel_35293/3621583968.py:18: DeprecationWarning: read_transaction has been renamed to execute_read\n",
      "  result = session.read_transaction(self._pathCidade, cityName)\n"
     ]
    },
    {
     "name": "stdout",
     "output_type": "stream",
     "text": [
      "[['cidades/2203909.csv']]\n"
     ]
    },
    {
     "name": "stderr",
     "output_type": "stream",
     "text": [
      "/var/folders/rv/x_8qm7392xv0jjj7dh82d9nm0000gn/T/ipykernel_35293/3621583968.py:18: DeprecationWarning: read_transaction has been renamed to execute_read\n",
      "  result = session.read_transaction(self._pathCidade, cityName)\n"
     ]
    },
    {
     "name": "stdout",
     "output_type": "stream",
     "text": [
      "[['cidades/2208007.csv']]\n"
     ]
    },
    {
     "name": "stderr",
     "output_type": "stream",
     "text": [
      "/var/folders/rv/x_8qm7392xv0jjj7dh82d9nm0000gn/T/ipykernel_35293/3621583968.py:18: DeprecationWarning: read_transaction has been renamed to execute_read\n",
      "  result = session.read_transaction(self._pathCidade, cityName)\n"
     ]
    },
    {
     "name": "stdout",
     "output_type": "stream",
     "text": [
      "[['cidades/2211001.csv']]\n"
     ]
    },
    {
     "name": "stderr",
     "output_type": "stream",
     "text": [
      "/var/folders/rv/x_8qm7392xv0jjj7dh82d9nm0000gn/T/ipykernel_35293/3621583968.py:18: DeprecationWarning: read_transaction has been renamed to execute_read\n",
      "  result = session.read_transaction(self._pathCidade, cityName)\n"
     ]
    },
    {
     "name": "stdout",
     "output_type": "stream",
     "text": [
      "[['cidades/2211209.csv']]\n"
     ]
    },
    {
     "name": "stderr",
     "output_type": "stream",
     "text": [
      "/var/folders/rv/x_8qm7392xv0jjj7dh82d9nm0000gn/T/ipykernel_35293/3621583968.py:18: DeprecationWarning: read_transaction has been renamed to execute_read\n",
      "  result = session.read_transaction(self._pathCidade, cityName)\n"
     ]
    },
    {
     "name": "stdout",
     "output_type": "stream",
     "text": [
      "[['cidades/2304400.csv']]\n"
     ]
    },
    {
     "name": "stderr",
     "output_type": "stream",
     "text": [
      "/var/folders/rv/x_8qm7392xv0jjj7dh82d9nm0000gn/T/ipykernel_35293/3621583968.py:18: DeprecationWarning: read_transaction has been renamed to execute_read\n",
      "  result = session.read_transaction(self._pathCidade, cityName)\n"
     ]
    },
    {
     "name": "stdout",
     "output_type": "stream",
     "text": [
      "[['cidades/2307304.csv']]\n"
     ]
    },
    {
     "name": "stderr",
     "output_type": "stream",
     "text": [
      "/var/folders/rv/x_8qm7392xv0jjj7dh82d9nm0000gn/T/ipykernel_35293/3621583968.py:18: DeprecationWarning: read_transaction has been renamed to execute_read\n",
      "  result = session.read_transaction(self._pathCidade, cityName)\n"
     ]
    },
    {
     "name": "stdout",
     "output_type": "stream",
     "text": [
      "[['cidades/2307403.csv']]\n"
     ]
    },
    {
     "name": "stderr",
     "output_type": "stream",
     "text": [
      "/var/folders/rv/x_8qm7392xv0jjj7dh82d9nm0000gn/T/ipykernel_35293/3621583968.py:18: DeprecationWarning: read_transaction has been renamed to execute_read\n",
      "  result = session.read_transaction(self._pathCidade, cityName)\n"
     ]
    },
    {
     "name": "stdout",
     "output_type": "stream",
     "text": [
      "[['cidades/2311603.csv']]\n"
     ]
    },
    {
     "name": "stderr",
     "output_type": "stream",
     "text": [
      "/var/folders/rv/x_8qm7392xv0jjj7dh82d9nm0000gn/T/ipykernel_35293/3621583968.py:18: DeprecationWarning: read_transaction has been renamed to execute_read\n",
      "  result = session.read_transaction(self._pathCidade, cityName)\n"
     ]
    },
    {
     "name": "stdout",
     "output_type": "stream",
     "text": [
      "[['cidades/2312908.csv']]\n"
     ]
    },
    {
     "name": "stderr",
     "output_type": "stream",
     "text": [
      "/var/folders/rv/x_8qm7392xv0jjj7dh82d9nm0000gn/T/ipykernel_35293/3621583968.py:18: DeprecationWarning: read_transaction has been renamed to execute_read\n",
      "  result = session.read_transaction(self._pathCidade, cityName)\n"
     ]
    },
    {
     "name": "stdout",
     "output_type": "stream",
     "text": [
      "[['cidades/2401859.csv']]\n"
     ]
    },
    {
     "name": "stderr",
     "output_type": "stream",
     "text": [
      "/var/folders/rv/x_8qm7392xv0jjj7dh82d9nm0000gn/T/ipykernel_35293/3621583968.py:18: DeprecationWarning: read_transaction has been renamed to execute_read\n",
      "  result = session.read_transaction(self._pathCidade, cityName)\n"
     ]
    },
    {
     "name": "stdout",
     "output_type": "stream",
     "text": [
      "[['cidades/2408102.csv']]\n"
     ]
    },
    {
     "name": "stderr",
     "output_type": "stream",
     "text": [
      "/var/folders/rv/x_8qm7392xv0jjj7dh82d9nm0000gn/T/ipykernel_35293/3621583968.py:18: DeprecationWarning: read_transaction has been renamed to execute_read\n",
      "  result = session.read_transaction(self._pathCidade, cityName)\n"
     ]
    },
    {
     "name": "stdout",
     "output_type": "stream",
     "text": [
      "[['cidades/2411502.csv']]\n"
     ]
    },
    {
     "name": "stderr",
     "output_type": "stream",
     "text": [
      "/var/folders/rv/x_8qm7392xv0jjj7dh82d9nm0000gn/T/ipykernel_35293/3621583968.py:18: DeprecationWarning: read_transaction has been renamed to execute_read\n",
      "  result = session.read_transaction(self._pathCidade, cityName)\n"
     ]
    },
    {
     "name": "stdout",
     "output_type": "stream",
     "text": [
      "[['cidades/2412203.csv']]\n"
     ]
    },
    {
     "name": "stderr",
     "output_type": "stream",
     "text": [
      "/var/folders/rv/x_8qm7392xv0jjj7dh82d9nm0000gn/T/ipykernel_35293/3621583968.py:18: DeprecationWarning: read_transaction has been renamed to execute_read\n",
      "  result = session.read_transaction(self._pathCidade, cityName)\n"
     ]
    },
    {
     "name": "stdout",
     "output_type": "stream",
     "text": [
      "[['cidades/2503605.csv']]\n"
     ]
    },
    {
     "name": "stderr",
     "output_type": "stream",
     "text": [
      "/var/folders/rv/x_8qm7392xv0jjj7dh82d9nm0000gn/T/ipykernel_35293/3621583968.py:18: DeprecationWarning: read_transaction has been renamed to execute_read\n",
      "  result = session.read_transaction(self._pathCidade, cityName)\n"
     ]
    },
    {
     "name": "stdout",
     "output_type": "stream",
     "text": [
      "[['cidades/2504009.csv']]\n"
     ]
    },
    {
     "name": "stderr",
     "output_type": "stream",
     "text": [
      "/var/folders/rv/x_8qm7392xv0jjj7dh82d9nm0000gn/T/ipykernel_35293/3621583968.py:18: DeprecationWarning: read_transaction has been renamed to execute_read\n",
      "  result = session.read_transaction(self._pathCidade, cityName)\n"
     ]
    },
    {
     "name": "stdout",
     "output_type": "stream",
     "text": [
      "[['cidades/2505105.csv']]\n"
     ]
    },
    {
     "name": "stderr",
     "output_type": "stream",
     "text": [
      "/var/folders/rv/x_8qm7392xv0jjj7dh82d9nm0000gn/T/ipykernel_35293/3621583968.py:18: DeprecationWarning: read_transaction has been renamed to execute_read\n",
      "  result = session.read_transaction(self._pathCidade, cityName)\n"
     ]
    },
    {
     "name": "stdout",
     "output_type": "stream",
     "text": [
      "[['cidades/2505808.csv']]\n"
     ]
    },
    {
     "name": "stderr",
     "output_type": "stream",
     "text": [
      "/var/folders/rv/x_8qm7392xv0jjj7dh82d9nm0000gn/T/ipykernel_35293/3621583968.py:18: DeprecationWarning: read_transaction has been renamed to execute_read\n",
      "  result = session.read_transaction(self._pathCidade, cityName)\n"
     ]
    },
    {
     "name": "stdout",
     "output_type": "stream",
     "text": [
      "[['cidades/2506301.csv']]\n"
     ]
    },
    {
     "name": "stderr",
     "output_type": "stream",
     "text": [
      "/var/folders/rv/x_8qm7392xv0jjj7dh82d9nm0000gn/T/ipykernel_35293/3621583968.py:18: DeprecationWarning: read_transaction has been renamed to execute_read\n",
      "  result = session.read_transaction(self._pathCidade, cityName)\n"
     ]
    },
    {
     "name": "stdout",
     "output_type": "stream",
     "text": [
      "[['cidades/2507309.csv']]\n",
      "[['cidades/2507507.csv']]\n"
     ]
    },
    {
     "name": "stderr",
     "output_type": "stream",
     "text": [
      "/var/folders/rv/x_8qm7392xv0jjj7dh82d9nm0000gn/T/ipykernel_35293/3621583968.py:18: DeprecationWarning: read_transaction has been renamed to execute_read\n",
      "  result = session.read_transaction(self._pathCidade, cityName)\n",
      "/var/folders/rv/x_8qm7392xv0jjj7dh82d9nm0000gn/T/ipykernel_35293/3621583968.py:18: DeprecationWarning: read_transaction has been renamed to execute_read\n",
      "  result = session.read_transaction(self._pathCidade, cityName)\n"
     ]
    },
    {
     "name": "stdout",
     "output_type": "stream",
     "text": [
      "[['cidades/2508901.csv']]\n"
     ]
    },
    {
     "name": "stderr",
     "output_type": "stream",
     "text": [
      "/var/folders/rv/x_8qm7392xv0jjj7dh82d9nm0000gn/T/ipykernel_35293/3621583968.py:18: DeprecationWarning: read_transaction has been renamed to execute_read\n",
      "  result = session.read_transaction(self._pathCidade, cityName)\n"
     ]
    },
    {
     "name": "stdout",
     "output_type": "stream",
     "text": [
      "[['cidades/2510808.csv']]\n"
     ]
    },
    {
     "name": "stderr",
     "output_type": "stream",
     "text": [
      "/var/folders/rv/x_8qm7392xv0jjj7dh82d9nm0000gn/T/ipykernel_35293/3621583968.py:18: DeprecationWarning: read_transaction has been renamed to execute_read\n",
      "  result = session.read_transaction(self._pathCidade, cityName)\n"
     ]
    },
    {
     "name": "stdout",
     "output_type": "stream",
     "text": [
      "[['cidades/2516003.csv']]\n"
     ]
    },
    {
     "name": "stderr",
     "output_type": "stream",
     "text": [
      "/var/folders/rv/x_8qm7392xv0jjj7dh82d9nm0000gn/T/ipykernel_35293/3621583968.py:18: DeprecationWarning: read_transaction has been renamed to execute_read\n",
      "  result = session.read_transaction(self._pathCidade, cityName)\n"
     ]
    },
    {
     "name": "stdout",
     "output_type": "stream",
     "text": [
      "[['cidades/2601102.csv']]\n"
     ]
    },
    {
     "name": "stderr",
     "output_type": "stream",
     "text": [
      "/var/folders/rv/x_8qm7392xv0jjj7dh82d9nm0000gn/T/ipykernel_35293/3621583968.py:18: DeprecationWarning: read_transaction has been renamed to execute_read\n",
      "  result = session.read_transaction(self._pathCidade, cityName)\n"
     ]
    },
    {
     "name": "stdout",
     "output_type": "stream",
     "text": [
      "[['cidades/2603207.csv']]\n"
     ]
    },
    {
     "name": "stderr",
     "output_type": "stream",
     "text": [
      "/var/folders/rv/x_8qm7392xv0jjj7dh82d9nm0000gn/T/ipykernel_35293/3621583968.py:18: DeprecationWarning: read_transaction has been renamed to execute_read\n",
      "  result = session.read_transaction(self._pathCidade, cityName)\n"
     ]
    },
    {
     "name": "stdout",
     "output_type": "stream",
     "text": [
      "[['cidades/2607653.csv']]\n"
     ]
    },
    {
     "name": "stderr",
     "output_type": "stream",
     "text": [
      "/var/folders/rv/x_8qm7392xv0jjj7dh82d9nm0000gn/T/ipykernel_35293/3621583968.py:18: DeprecationWarning: read_transaction has been renamed to execute_read\n",
      "  result = session.read_transaction(self._pathCidade, cityName)\n"
     ]
    },
    {
     "name": "stdout",
     "output_type": "stream",
     "text": [
      "[['cidades/2611101.csv']]\n"
     ]
    },
    {
     "name": "stderr",
     "output_type": "stream",
     "text": [
      "/var/folders/rv/x_8qm7392xv0jjj7dh82d9nm0000gn/T/ipykernel_35293/3621583968.py:18: DeprecationWarning: read_transaction has been renamed to execute_read\n",
      "  result = session.read_transaction(self._pathCidade, cityName)\n"
     ]
    },
    {
     "name": "stdout",
     "output_type": "stream",
     "text": [
      "[['cidades/2611606.csv']]\n"
     ]
    },
    {
     "name": "stderr",
     "output_type": "stream",
     "text": [
      "/var/folders/rv/x_8qm7392xv0jjj7dh82d9nm0000gn/T/ipykernel_35293/3621583968.py:18: DeprecationWarning: read_transaction has been renamed to execute_read\n",
      "  result = session.read_transaction(self._pathCidade, cityName)\n"
     ]
    },
    {
     "name": "stdout",
     "output_type": "stream",
     "text": [
      "[['cidades/2704302.csv']]\n"
     ]
    },
    {
     "name": "stderr",
     "output_type": "stream",
     "text": [
      "/var/folders/rv/x_8qm7392xv0jjj7dh82d9nm0000gn/T/ipykernel_35293/3621583968.py:18: DeprecationWarning: read_transaction has been renamed to execute_read\n",
      "  result = session.read_transaction(self._pathCidade, cityName)\n"
     ]
    },
    {
     "name": "stdout",
     "output_type": "stream",
     "text": [
      "[['cidades/2704500.csv']]\n"
     ]
    },
    {
     "name": "stderr",
     "output_type": "stream",
     "text": [
      "/var/folders/rv/x_8qm7392xv0jjj7dh82d9nm0000gn/T/ipykernel_35293/3621583968.py:18: DeprecationWarning: read_transaction has been renamed to execute_read\n",
      "  result = session.read_transaction(self._pathCidade, cityName)\n"
     ]
    },
    {
     "name": "stdout",
     "output_type": "stream",
     "text": [
      "[['cidades/2706703.csv']]\n"
     ]
    },
    {
     "name": "stderr",
     "output_type": "stream",
     "text": [
      "/var/folders/rv/x_8qm7392xv0jjj7dh82d9nm0000gn/T/ipykernel_35293/3621583968.py:18: DeprecationWarning: read_transaction has been renamed to execute_read\n",
      "  result = session.read_transaction(self._pathCidade, cityName)\n"
     ]
    },
    {
     "name": "stdout",
     "output_type": "stream",
     "text": [
      "[['cidades/2800308.csv']]\n"
     ]
    },
    {
     "name": "stderr",
     "output_type": "stream",
     "text": [
      "/var/folders/rv/x_8qm7392xv0jjj7dh82d9nm0000gn/T/ipykernel_35293/3621583968.py:18: DeprecationWarning: read_transaction has been renamed to execute_read\n",
      "  result = session.read_transaction(self._pathCidade, cityName)\n"
     ]
    },
    {
     "name": "stdout",
     "output_type": "stream",
     "text": [
      "[['cidades/2805703.csv']]\n"
     ]
    },
    {
     "name": "stderr",
     "output_type": "stream",
     "text": [
      "/var/folders/rv/x_8qm7392xv0jjj7dh82d9nm0000gn/T/ipykernel_35293/3621583968.py:18: DeprecationWarning: read_transaction has been renamed to execute_read\n",
      "  result = session.read_transaction(self._pathCidade, cityName)\n"
     ]
    },
    {
     "name": "stdout",
     "output_type": "stream",
     "text": [
      "[['cidades/2904308.csv']]\n"
     ]
    },
    {
     "name": "stderr",
     "output_type": "stream",
     "text": [
      "/var/folders/rv/x_8qm7392xv0jjj7dh82d9nm0000gn/T/ipykernel_35293/3621583968.py:18: DeprecationWarning: read_transaction has been renamed to execute_read\n",
      "  result = session.read_transaction(self._pathCidade, cityName)\n"
     ]
    },
    {
     "name": "stdout",
     "output_type": "stream",
     "text": [
      "[['cidades/2904902.csv']]\n"
     ]
    },
    {
     "name": "stderr",
     "output_type": "stream",
     "text": [
      "/var/folders/rv/x_8qm7392xv0jjj7dh82d9nm0000gn/T/ipykernel_35293/3621583968.py:18: DeprecationWarning: read_transaction has been renamed to execute_read\n",
      "  result = session.read_transaction(self._pathCidade, cityName)\n"
     ]
    },
    {
     "name": "stdout",
     "output_type": "stream",
     "text": [
      "[['cidades/2908309.csv']]\n"
     ]
    },
    {
     "name": "stderr",
     "output_type": "stream",
     "text": [
      "/var/folders/rv/x_8qm7392xv0jjj7dh82d9nm0000gn/T/ipykernel_35293/3621583968.py:18: DeprecationWarning: read_transaction has been renamed to execute_read\n",
      "  result = session.read_transaction(self._pathCidade, cityName)\n"
     ]
    },
    {
     "name": "stdout",
     "output_type": "stream",
     "text": [
      "[['cidades/2927408.csv']]\n"
     ]
    },
    {
     "name": "stderr",
     "output_type": "stream",
     "text": [
      "/var/folders/rv/x_8qm7392xv0jjj7dh82d9nm0000gn/T/ipykernel_35293/3621583968.py:18: DeprecationWarning: read_transaction has been renamed to execute_read\n",
      "  result = session.read_transaction(self._pathCidade, cityName)\n"
     ]
    },
    {
     "name": "stdout",
     "output_type": "stream",
     "text": [
      "[['cidades/2928109.csv']]\n"
     ]
    },
    {
     "name": "stderr",
     "output_type": "stream",
     "text": [
      "/var/folders/rv/x_8qm7392xv0jjj7dh82d9nm0000gn/T/ipykernel_35293/3621583968.py:18: DeprecationWarning: read_transaction has been renamed to execute_read\n",
      "  result = session.read_transaction(self._pathCidade, cityName)\n"
     ]
    },
    {
     "name": "stdout",
     "output_type": "stream",
     "text": [
      "[['cidades/2932200.csv']]\n"
     ]
    },
    {
     "name": "stderr",
     "output_type": "stream",
     "text": [
      "/var/folders/rv/x_8qm7392xv0jjj7dh82d9nm0000gn/T/ipykernel_35293/3621583968.py:18: DeprecationWarning: read_transaction has been renamed to execute_read\n",
      "  result = session.read_transaction(self._pathCidade, cityName)\n"
     ]
    },
    {
     "name": "stdout",
     "output_type": "stream",
     "text": [
      "[['cidades/2933208.csv']]\n"
     ]
    },
    {
     "name": "stderr",
     "output_type": "stream",
     "text": [
      "/var/folders/rv/x_8qm7392xv0jjj7dh82d9nm0000gn/T/ipykernel_35293/3621583968.py:18: DeprecationWarning: read_transaction has been renamed to execute_read\n",
      "  result = session.read_transaction(self._pathCidade, cityName)\n"
     ]
    },
    {
     "name": "stdout",
     "output_type": "stream",
     "text": [
      "[['cidades/3101508.csv']]\n"
     ]
    },
    {
     "name": "stderr",
     "output_type": "stream",
     "text": [
      "/var/folders/rv/x_8qm7392xv0jjj7dh82d9nm0000gn/T/ipykernel_35293/3621583968.py:18: DeprecationWarning: read_transaction has been renamed to execute_read\n",
      "  result = session.read_transaction(self._pathCidade, cityName)\n"
     ]
    },
    {
     "name": "stdout",
     "output_type": "stream",
     "text": [
      "[['cidades/3104007.csv']]\n"
     ]
    },
    {
     "name": "stderr",
     "output_type": "stream",
     "text": [
      "/var/folders/rv/x_8qm7392xv0jjj7dh82d9nm0000gn/T/ipykernel_35293/3621583968.py:18: DeprecationWarning: read_transaction has been renamed to execute_read\n",
      "  result = session.read_transaction(self._pathCidade, cityName)\n"
     ]
    },
    {
     "name": "stdout",
     "output_type": "stream",
     "text": [
      "[['cidades/3105608.csv']]\n"
     ]
    },
    {
     "name": "stderr",
     "output_type": "stream",
     "text": [
      "/var/folders/rv/x_8qm7392xv0jjj7dh82d9nm0000gn/T/ipykernel_35293/3621583968.py:18: DeprecationWarning: read_transaction has been renamed to execute_read\n",
      "  result = session.read_transaction(self._pathCidade, cityName)\n"
     ]
    },
    {
     "name": "stdout",
     "output_type": "stream",
     "text": [
      "[['cidades/3106200.csv']]\n"
     ]
    },
    {
     "name": "stderr",
     "output_type": "stream",
     "text": [
      "/var/folders/rv/x_8qm7392xv0jjj7dh82d9nm0000gn/T/ipykernel_35293/3621583968.py:18: DeprecationWarning: read_transaction has been renamed to execute_read\n",
      "  result = session.read_transaction(self._pathCidade, cityName)\n"
     ]
    },
    {
     "name": "stdout",
     "output_type": "stream",
     "text": [
      "[['cidades/3106903.csv']]\n"
     ]
    },
    {
     "name": "stderr",
     "output_type": "stream",
     "text": [
      "/var/folders/rv/x_8qm7392xv0jjj7dh82d9nm0000gn/T/ipykernel_35293/3621583968.py:18: DeprecationWarning: read_transaction has been renamed to execute_read\n",
      "  result = session.read_transaction(self._pathCidade, cityName)\n"
     ]
    },
    {
     "name": "stdout",
     "output_type": "stream",
     "text": [
      "[['cidades/3110608.csv']]\n"
     ]
    },
    {
     "name": "stderr",
     "output_type": "stream",
     "text": [
      "/var/folders/rv/x_8qm7392xv0jjj7dh82d9nm0000gn/T/ipykernel_35293/3621583968.py:18: DeprecationWarning: read_transaction has been renamed to execute_read\n",
      "  result = session.read_transaction(self._pathCidade, cityName)\n"
     ]
    },
    {
     "name": "stdout",
     "output_type": "stream",
     "text": [
      "[['cidades/3113008.csv']]\n"
     ]
    },
    {
     "name": "stderr",
     "output_type": "stream",
     "text": [
      "/var/folders/rv/x_8qm7392xv0jjj7dh82d9nm0000gn/T/ipykernel_35293/3621583968.py:18: DeprecationWarning: read_transaction has been renamed to execute_read\n",
      "  result = session.read_transaction(self._pathCidade, cityName)\n"
     ]
    },
    {
     "name": "stdout",
     "output_type": "stream",
     "text": [
      "[['cidades/3115508.csv']]\n"
     ]
    },
    {
     "name": "stderr",
     "output_type": "stream",
     "text": [
      "/var/folders/rv/x_8qm7392xv0jjj7dh82d9nm0000gn/T/ipykernel_35293/3621583968.py:18: DeprecationWarning: read_transaction has been renamed to execute_read\n",
      "  result = session.read_transaction(self._pathCidade, cityName)\n"
     ]
    },
    {
     "name": "stdout",
     "output_type": "stream",
     "text": [
      "[['cidades/3118304.csv']]\n"
     ]
    },
    {
     "name": "stderr",
     "output_type": "stream",
     "text": [
      "/var/folders/rv/x_8qm7392xv0jjj7dh82d9nm0000gn/T/ipykernel_35293/3621583968.py:18: DeprecationWarning: read_transaction has been renamed to execute_read\n",
      "  result = session.read_transaction(self._pathCidade, cityName)\n"
     ]
    },
    {
     "name": "stdout",
     "output_type": "stream",
     "text": [
      "[['cidades/3120904.csv']]\n"
     ]
    },
    {
     "name": "stderr",
     "output_type": "stream",
     "text": [
      "/var/folders/rv/x_8qm7392xv0jjj7dh82d9nm0000gn/T/ipykernel_35293/3621583968.py:18: DeprecationWarning: read_transaction has been renamed to execute_read\n",
      "  result = session.read_transaction(self._pathCidade, cityName)\n"
     ]
    },
    {
     "name": "stdout",
     "output_type": "stream",
     "text": [
      "[['cidades/3131307.csv']]\n"
     ]
    },
    {
     "name": "stderr",
     "output_type": "stream",
     "text": [
      "/var/folders/rv/x_8qm7392xv0jjj7dh82d9nm0000gn/T/ipykernel_35293/3621583968.py:18: DeprecationWarning: read_transaction has been renamed to execute_read\n",
      "  result = session.read_transaction(self._pathCidade, cityName)\n"
     ]
    },
    {
     "name": "stdout",
     "output_type": "stream",
     "text": [
      "[['cidades/3132404.csv']]\n"
     ]
    },
    {
     "name": "stderr",
     "output_type": "stream",
     "text": [
      "/var/folders/rv/x_8qm7392xv0jjj7dh82d9nm0000gn/T/ipykernel_35293/3621583968.py:18: DeprecationWarning: read_transaction has been renamed to execute_read\n",
      "  result = session.read_transaction(self._pathCidade, cityName)\n"
     ]
    },
    {
     "name": "stdout",
     "output_type": "stream",
     "text": [
      "[['cidades/3133808.csv']]\n",
      "[['cidades/3135100.csv']]\n"
     ]
    },
    {
     "name": "stderr",
     "output_type": "stream",
     "text": [
      "/var/folders/rv/x_8qm7392xv0jjj7dh82d9nm0000gn/T/ipykernel_35293/3621583968.py:18: DeprecationWarning: read_transaction has been renamed to execute_read\n",
      "  result = session.read_transaction(self._pathCidade, cityName)\n",
      "/var/folders/rv/x_8qm7392xv0jjj7dh82d9nm0000gn/T/ipykernel_35293/3621583968.py:18: DeprecationWarning: read_transaction has been renamed to execute_read\n",
      "  result = session.read_transaction(self._pathCidade, cityName)\n"
     ]
    },
    {
     "name": "stdout",
     "output_type": "stream",
     "text": [
      "[['cidades/3136207.csv']]\n"
     ]
    },
    {
     "name": "stderr",
     "output_type": "stream",
     "text": [
      "/var/folders/rv/x_8qm7392xv0jjj7dh82d9nm0000gn/T/ipykernel_35293/3621583968.py:18: DeprecationWarning: read_transaction has been renamed to execute_read\n",
      "  result = session.read_transaction(self._pathCidade, cityName)\n"
     ]
    },
    {
     "name": "stdout",
     "output_type": "stream",
     "text": [
      "[['cidades/3136702.csv']]\n"
     ]
    },
    {
     "name": "stderr",
     "output_type": "stream",
     "text": [
      "/var/folders/rv/x_8qm7392xv0jjj7dh82d9nm0000gn/T/ipykernel_35293/3621583968.py:18: DeprecationWarning: read_transaction has been renamed to execute_read\n",
      "  result = session.read_transaction(self._pathCidade, cityName)\n"
     ]
    },
    {
     "name": "stdout",
     "output_type": "stream",
     "text": [
      "[['cidades/3137205.csv']]\n"
     ]
    },
    {
     "name": "stderr",
     "output_type": "stream",
     "text": [
      "/var/folders/rv/x_8qm7392xv0jjj7dh82d9nm0000gn/T/ipykernel_35293/3621583968.py:18: DeprecationWarning: read_transaction has been renamed to execute_read\n",
      "  result = session.read_transaction(self._pathCidade, cityName)\n"
     ]
    },
    {
     "name": "stdout",
     "output_type": "stream",
     "text": [
      "[['cidades/3138203.csv']]\n"
     ]
    },
    {
     "name": "stderr",
     "output_type": "stream",
     "text": [
      "/var/folders/rv/x_8qm7392xv0jjj7dh82d9nm0000gn/T/ipykernel_35293/3621583968.py:18: DeprecationWarning: read_transaction has been renamed to execute_read\n",
      "  result = session.read_transaction(self._pathCidade, cityName)\n"
     ]
    },
    {
     "name": "stdout",
     "output_type": "stream",
     "text": [
      "[['cidades/3141108.csv']]\n"
     ]
    },
    {
     "name": "stderr",
     "output_type": "stream",
     "text": [
      "/var/folders/rv/x_8qm7392xv0jjj7dh82d9nm0000gn/T/ipykernel_35293/3621583968.py:18: DeprecationWarning: read_transaction has been renamed to execute_read\n",
      "  result = session.read_transaction(self._pathCidade, cityName)\n"
     ]
    },
    {
     "name": "stdout",
     "output_type": "stream",
     "text": [
      "[['cidades/3145208.csv']]\n"
     ]
    },
    {
     "name": "stderr",
     "output_type": "stream",
     "text": [
      "/var/folders/rv/x_8qm7392xv0jjj7dh82d9nm0000gn/T/ipykernel_35293/3621583968.py:18: DeprecationWarning: read_transaction has been renamed to execute_read\n",
      "  result = session.read_transaction(self._pathCidade, cityName)\n"
     ]
    },
    {
     "name": "stdout",
     "output_type": "stream",
     "text": [
      "[['cidades/3147402.csv']]\n"
     ]
    },
    {
     "name": "stderr",
     "output_type": "stream",
     "text": [
      "/var/folders/rv/x_8qm7392xv0jjj7dh82d9nm0000gn/T/ipykernel_35293/3621583968.py:18: DeprecationWarning: read_transaction has been renamed to execute_read\n",
      "  result = session.read_transaction(self._pathCidade, cityName)\n"
     ]
    },
    {
     "name": "stdout",
     "output_type": "stream",
     "text": [
      "[['cidades/3147907.csv']]\n"
     ]
    },
    {
     "name": "stderr",
     "output_type": "stream",
     "text": [
      "/var/folders/rv/x_8qm7392xv0jjj7dh82d9nm0000gn/T/ipykernel_35293/3621583968.py:18: DeprecationWarning: read_transaction has been renamed to execute_read\n",
      "  result = session.read_transaction(self._pathCidade, cityName)\n"
     ]
    },
    {
     "name": "stdout",
     "output_type": "stream",
     "text": [
      "[['cidades/3151206.csv']]\n"
     ]
    },
    {
     "name": "stderr",
     "output_type": "stream",
     "text": [
      "/var/folders/rv/x_8qm7392xv0jjj7dh82d9nm0000gn/T/ipykernel_35293/3621583968.py:18: DeprecationWarning: read_transaction has been renamed to execute_read\n",
      "  result = session.read_transaction(self._pathCidade, cityName)\n"
     ]
    },
    {
     "name": "stdout",
     "output_type": "stream",
     "text": [
      "[['cidades/3151404.csv']]\n"
     ]
    },
    {
     "name": "stderr",
     "output_type": "stream",
     "text": [
      "/var/folders/rv/x_8qm7392xv0jjj7dh82d9nm0000gn/T/ipykernel_35293/3621583968.py:18: DeprecationWarning: read_transaction has been renamed to execute_read\n",
      "  result = session.read_transaction(self._pathCidade, cityName)\n"
     ]
    },
    {
     "name": "stdout",
     "output_type": "stream",
     "text": [
      "[['cidades/3151602.csv']]\n"
     ]
    },
    {
     "name": "stderr",
     "output_type": "stream",
     "text": [
      "/var/folders/rv/x_8qm7392xv0jjj7dh82d9nm0000gn/T/ipykernel_35293/3621583968.py:18: DeprecationWarning: read_transaction has been renamed to execute_read\n",
      "  result = session.read_transaction(self._pathCidade, cityName)\n"
     ]
    },
    {
     "name": "stdout",
     "output_type": "stream",
     "text": [
      "[['cidades/3152105.csv']]\n"
     ]
    },
    {
     "name": "stderr",
     "output_type": "stream",
     "text": [
      "/var/folders/rv/x_8qm7392xv0jjj7dh82d9nm0000gn/T/ipykernel_35293/3621583968.py:18: DeprecationWarning: read_transaction has been renamed to execute_read\n",
      "  result = session.read_transaction(self._pathCidade, cityName)\n"
     ]
    },
    {
     "name": "stdout",
     "output_type": "stream",
     "text": [
      "[['cidades/3152600.csv']]\n"
     ]
    },
    {
     "name": "stderr",
     "output_type": "stream",
     "text": [
      "/var/folders/rv/x_8qm7392xv0jjj7dh82d9nm0000gn/T/ipykernel_35293/3621583968.py:18: DeprecationWarning: read_transaction has been renamed to execute_read\n",
      "  result = session.read_transaction(self._pathCidade, cityName)\n"
     ]
    },
    {
     "name": "stdout",
     "output_type": "stream",
     "text": [
      "[['cidades/3162500.csv']]\n",
      "[['cidades/3163706.csv']]\n"
     ]
    },
    {
     "name": "stderr",
     "output_type": "stream",
     "text": [
      "/var/folders/rv/x_8qm7392xv0jjj7dh82d9nm0000gn/T/ipykernel_35293/3621583968.py:18: DeprecationWarning: read_transaction has been renamed to execute_read\n",
      "  result = session.read_transaction(self._pathCidade, cityName)\n",
      "/var/folders/rv/x_8qm7392xv0jjj7dh82d9nm0000gn/T/ipykernel_35293/3621583968.py:18: DeprecationWarning: read_transaction has been renamed to execute_read\n",
      "  result = session.read_transaction(self._pathCidade, cityName)\n"
     ]
    },
    {
     "name": "stdout",
     "output_type": "stream",
     "text": [
      "[['cidades/3167004.csv']]\n"
     ]
    },
    {
     "name": "stderr",
     "output_type": "stream",
     "text": [
      "/var/folders/rv/x_8qm7392xv0jjj7dh82d9nm0000gn/T/ipykernel_35293/3621583968.py:18: DeprecationWarning: read_transaction has been renamed to execute_read\n",
      "  result = session.read_transaction(self._pathCidade, cityName)\n"
     ]
    },
    {
     "name": "stdout",
     "output_type": "stream",
     "text": [
      "[['cidades/3167202.csv']]\n"
     ]
    },
    {
     "name": "stderr",
     "output_type": "stream",
     "text": [
      "/var/folders/rv/x_8qm7392xv0jjj7dh82d9nm0000gn/T/ipykernel_35293/3621583968.py:18: DeprecationWarning: read_transaction has been renamed to execute_read\n",
      "  result = session.read_transaction(self._pathCidade, cityName)\n"
     ]
    },
    {
     "name": "stdout",
     "output_type": "stream",
     "text": [
      "[['cidades/3169901.csv']]\n"
     ]
    },
    {
     "name": "stderr",
     "output_type": "stream",
     "text": [
      "/var/folders/rv/x_8qm7392xv0jjj7dh82d9nm0000gn/T/ipykernel_35293/3621583968.py:18: DeprecationWarning: read_transaction has been renamed to execute_read\n",
      "  result = session.read_transaction(self._pathCidade, cityName)\n"
     ]
    },
    {
     "name": "stdout",
     "output_type": "stream",
     "text": [
      "[['cidades/3171303.csv']]\n"
     ]
    },
    {
     "name": "stderr",
     "output_type": "stream",
     "text": [
      "/var/folders/rv/x_8qm7392xv0jjj7dh82d9nm0000gn/T/ipykernel_35293/3621583968.py:18: DeprecationWarning: read_transaction has been renamed to execute_read\n",
      "  result = session.read_transaction(self._pathCidade, cityName)\n"
     ]
    },
    {
     "name": "stdout",
     "output_type": "stream",
     "text": [
      "[['cidades/3204252.csv']]\n"
     ]
    },
    {
     "name": "stderr",
     "output_type": "stream",
     "text": [
      "/var/folders/rv/x_8qm7392xv0jjj7dh82d9nm0000gn/T/ipykernel_35293/3621583968.py:18: DeprecationWarning: read_transaction has been renamed to execute_read\n",
      "  result = session.read_transaction(self._pathCidade, cityName)\n"
     ]
    },
    {
     "name": "stdout",
     "output_type": "stream",
     "text": [
      "[['cidades/3205309.csv']]\n"
     ]
    },
    {
     "name": "stderr",
     "output_type": "stream",
     "text": [
      "/var/folders/rv/x_8qm7392xv0jjj7dh82d9nm0000gn/T/ipykernel_35293/3621583968.py:18: DeprecationWarning: read_transaction has been renamed to execute_read\n",
      "  result = session.read_transaction(self._pathCidade, cityName)\n"
     ]
    },
    {
     "name": "stdout",
     "output_type": "stream",
     "text": [
      "[['cidades/3300209.csv']]\n"
     ]
    },
    {
     "name": "stderr",
     "output_type": "stream",
     "text": [
      "/var/folders/rv/x_8qm7392xv0jjj7dh82d9nm0000gn/T/ipykernel_35293/3621583968.py:18: DeprecationWarning: read_transaction has been renamed to execute_read\n",
      "  result = session.read_transaction(self._pathCidade, cityName)\n"
     ]
    },
    {
     "name": "stdout",
     "output_type": "stream",
     "text": [
      "[['cidades/3300605.csv']]\n"
     ]
    },
    {
     "name": "stderr",
     "output_type": "stream",
     "text": [
      "/var/folders/rv/x_8qm7392xv0jjj7dh82d9nm0000gn/T/ipykernel_35293/3621583968.py:18: DeprecationWarning: read_transaction has been renamed to execute_read\n",
      "  result = session.read_transaction(self._pathCidade, cityName)\n"
     ]
    },
    {
     "name": "stdout",
     "output_type": "stream",
     "text": [
      "[['cidades/3300704.csv']]\n"
     ]
    },
    {
     "name": "stderr",
     "output_type": "stream",
     "text": [
      "/var/folders/rv/x_8qm7392xv0jjj7dh82d9nm0000gn/T/ipykernel_35293/3621583968.py:18: DeprecationWarning: read_transaction has been renamed to execute_read\n",
      "  result = session.read_transaction(self._pathCidade, cityName)\n"
     ]
    },
    {
     "name": "stdout",
     "output_type": "stream",
     "text": [
      "[['cidades/3301009.csv']]\n"
     ]
    },
    {
     "name": "stderr",
     "output_type": "stream",
     "text": [
      "/var/folders/rv/x_8qm7392xv0jjj7dh82d9nm0000gn/T/ipykernel_35293/3621583968.py:18: DeprecationWarning: read_transaction has been renamed to execute_read\n",
      "  result = session.read_transaction(self._pathCidade, cityName)\n"
     ]
    },
    {
     "name": "stdout",
     "output_type": "stream",
     "text": [
      "[['cidades/3301504.csv']]\n"
     ]
    },
    {
     "name": "stderr",
     "output_type": "stream",
     "text": [
      "/var/folders/rv/x_8qm7392xv0jjj7dh82d9nm0000gn/T/ipykernel_35293/3621583968.py:18: DeprecationWarning: read_transaction has been renamed to execute_read\n",
      "  result = session.read_transaction(self._pathCidade, cityName)\n"
     ]
    },
    {
     "name": "stdout",
     "output_type": "stream",
     "text": [
      "[['cidades/3302106.csv']]\n"
     ]
    },
    {
     "name": "stderr",
     "output_type": "stream",
     "text": [
      "/var/folders/rv/x_8qm7392xv0jjj7dh82d9nm0000gn/T/ipykernel_35293/3621583968.py:18: DeprecationWarning: read_transaction has been renamed to execute_read\n",
      "  result = session.read_transaction(self._pathCidade, cityName)\n"
     ]
    },
    {
     "name": "stdout",
     "output_type": "stream",
     "text": [
      "[['cidades/3302403.csv']]\n"
     ]
    },
    {
     "name": "stderr",
     "output_type": "stream",
     "text": [
      "/var/folders/rv/x_8qm7392xv0jjj7dh82d9nm0000gn/T/ipykernel_35293/3621583968.py:18: DeprecationWarning: read_transaction has been renamed to execute_read\n",
      "  result = session.read_transaction(self._pathCidade, cityName)\n"
     ]
    },
    {
     "name": "stdout",
     "output_type": "stream",
     "text": [
      "[['cidades/3302809.csv']]\n"
     ]
    },
    {
     "name": "stderr",
     "output_type": "stream",
     "text": [
      "/var/folders/rv/x_8qm7392xv0jjj7dh82d9nm0000gn/T/ipykernel_35293/3621583968.py:18: DeprecationWarning: read_transaction has been renamed to execute_read\n",
      "  result = session.read_transaction(self._pathCidade, cityName)\n"
     ]
    },
    {
     "name": "stdout",
     "output_type": "stream",
     "text": [
      "[['cidades/3303856.csv']]\n"
     ]
    },
    {
     "name": "stderr",
     "output_type": "stream",
     "text": [
      "/var/folders/rv/x_8qm7392xv0jjj7dh82d9nm0000gn/T/ipykernel_35293/3621583968.py:18: DeprecationWarning: read_transaction has been renamed to execute_read\n",
      "  result = session.read_transaction(self._pathCidade, cityName)\n"
     ]
    },
    {
     "name": "stdout",
     "output_type": "stream",
     "text": [
      "[['cidades/3303906.csv']]\n",
      "[['cidades/3304201.csv']]\n"
     ]
    },
    {
     "name": "stderr",
     "output_type": "stream",
     "text": [
      "/var/folders/rv/x_8qm7392xv0jjj7dh82d9nm0000gn/T/ipykernel_35293/3621583968.py:18: DeprecationWarning: read_transaction has been renamed to execute_read\n",
      "  result = session.read_transaction(self._pathCidade, cityName)\n",
      "/var/folders/rv/x_8qm7392xv0jjj7dh82d9nm0000gn/T/ipykernel_35293/3621583968.py:18: DeprecationWarning: read_transaction has been renamed to execute_read\n",
      "  result = session.read_transaction(self._pathCidade, cityName)\n"
     ]
    },
    {
     "name": "stdout",
     "output_type": "stream",
     "text": [
      "[['cidades/3304557.csv']]\n"
     ]
    },
    {
     "name": "stderr",
     "output_type": "stream",
     "text": [
      "/var/folders/rv/x_8qm7392xv0jjj7dh82d9nm0000gn/T/ipykernel_35293/3621583968.py:18: DeprecationWarning: read_transaction has been renamed to execute_read\n",
      "  result = session.read_transaction(self._pathCidade, cityName)\n"
     ]
    },
    {
     "name": "stdout",
     "output_type": "stream",
     "text": [
      "[['cidades/3304706.csv']]\n"
     ]
    },
    {
     "name": "stderr",
     "output_type": "stream",
     "text": [
      "/var/folders/rv/x_8qm7392xv0jjj7dh82d9nm0000gn/T/ipykernel_35293/3621583968.py:18: DeprecationWarning: read_transaction has been renamed to execute_read\n",
      "  result = session.read_transaction(self._pathCidade, cityName)\n"
     ]
    },
    {
     "name": "stdout",
     "output_type": "stream",
     "text": [
      "[['cidades/3306008.csv']]\n"
     ]
    },
    {
     "name": "stderr",
     "output_type": "stream",
     "text": [
      "/var/folders/rv/x_8qm7392xv0jjj7dh82d9nm0000gn/T/ipykernel_35293/3621583968.py:18: DeprecationWarning: read_transaction has been renamed to execute_read\n",
      "  result = session.read_transaction(self._pathCidade, cityName)\n"
     ]
    },
    {
     "name": "stdout",
     "output_type": "stream",
     "text": [
      "[['cidades/3306107.csv']]\n"
     ]
    },
    {
     "name": "stderr",
     "output_type": "stream",
     "text": [
      "/var/folders/rv/x_8qm7392xv0jjj7dh82d9nm0000gn/T/ipykernel_35293/3621583968.py:18: DeprecationWarning: read_transaction has been renamed to execute_read\n",
      "  result = session.read_transaction(self._pathCidade, cityName)\n"
     ]
    },
    {
     "name": "stdout",
     "output_type": "stream",
     "text": [
      "[['cidades/3306305.csv']]\n"
     ]
    },
    {
     "name": "stderr",
     "output_type": "stream",
     "text": [
      "/var/folders/rv/x_8qm7392xv0jjj7dh82d9nm0000gn/T/ipykernel_35293/3621583968.py:18: DeprecationWarning: read_transaction has been renamed to execute_read\n",
      "  result = session.read_transaction(self._pathCidade, cityName)\n"
     ]
    },
    {
     "name": "stdout",
     "output_type": "stream",
     "text": [
      "[['cidades/3500105.csv']]\n"
     ]
    },
    {
     "name": "stderr",
     "output_type": "stream",
     "text": [
      "/var/folders/rv/x_8qm7392xv0jjj7dh82d9nm0000gn/T/ipykernel_35293/3621583968.py:18: DeprecationWarning: read_transaction has been renamed to execute_read\n",
      "  result = session.read_transaction(self._pathCidade, cityName)\n"
     ]
    },
    {
     "name": "stdout",
     "output_type": "stream",
     "text": [
      "[['cidades/3500501.csv']]\n"
     ]
    },
    {
     "name": "stderr",
     "output_type": "stream",
     "text": [
      "/var/folders/rv/x_8qm7392xv0jjj7dh82d9nm0000gn/T/ipykernel_35293/3621583968.py:18: DeprecationWarning: read_transaction has been renamed to execute_read\n",
      "  result = session.read_transaction(self._pathCidade, cityName)\n"
     ]
    },
    {
     "name": "stdout",
     "output_type": "stream",
     "text": [
      "[['cidades/3501608.csv']]\n"
     ]
    },
    {
     "name": "stderr",
     "output_type": "stream",
     "text": [
      "/var/folders/rv/x_8qm7392xv0jjj7dh82d9nm0000gn/T/ipykernel_35293/3621583968.py:18: DeprecationWarning: read_transaction has been renamed to execute_read\n",
      "  result = session.read_transaction(self._pathCidade, cityName)\n"
     ]
    },
    {
     "name": "stdout",
     "output_type": "stream",
     "text": [
      "[['cidades/3501905.csv']]\n"
     ]
    },
    {
     "name": "stderr",
     "output_type": "stream",
     "text": [
      "/var/folders/rv/x_8qm7392xv0jjj7dh82d9nm0000gn/T/ipykernel_35293/3621583968.py:18: DeprecationWarning: read_transaction has been renamed to execute_read\n",
      "  result = session.read_transaction(self._pathCidade, cityName)\n"
     ]
    },
    {
     "name": "stdout",
     "output_type": "stream",
     "text": [
      "[['cidades/3503208.csv']]\n"
     ]
    },
    {
     "name": "stderr",
     "output_type": "stream",
     "text": [
      "/var/folders/rv/x_8qm7392xv0jjj7dh82d9nm0000gn/T/ipykernel_35293/3621583968.py:18: DeprecationWarning: read_transaction has been renamed to execute_read\n",
      "  result = session.read_transaction(self._pathCidade, cityName)\n"
     ]
    }
   ],
   "source": [
    "dfCidades = pd.read_csv(\"dados_final/2_dados_sem_enriquecimento/arr_mun.csv\")\n",
    "listCodCidade = dfCidades.cod_cidade.to_list()\n",
    "\n",
    "cnnNeo = ConnectionNeo4j()\n",
    "for codigoCidade in listCodCidade:\n",
    "    file = cnnNeo.salvarPathCidades(str(codigoCidade))\n",
    "    print(file)\n",
    "    \n",
    "cnnNeo.close()"
   ]
  }
 ],
 "metadata": {
  "kernelspec": {
   "display_name": "alerta_epidemia",
   "language": "python",
   "name": "python3"
  },
  "language_info": {
   "codemirror_mode": {
    "name": "ipython",
    "version": 3
   },
   "file_extension": ".py",
   "mimetype": "text/x-python",
   "name": "python",
   "nbconvert_exporter": "python",
   "pygments_lexer": "ipython3",
   "version": "3.9.13"
  },
  "orig_nbformat": 4
 },
 "nbformat": 4,
 "nbformat_minor": 2
}
