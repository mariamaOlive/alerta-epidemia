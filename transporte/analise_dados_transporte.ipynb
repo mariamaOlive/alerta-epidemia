{
 "cells": [
  {
   "attachments": {},
   "cell_type": "markdown",
   "metadata": {},
   "source": [
    "# Análise Exploratória - Dados transporte\n",
    "\n",
    "Comparação dos dados do **DNIT** e **IBGE**\n",
    "\n",
    "Bases utilizadas:\n",
    "- DNIT: https://servicos.dnit.gov.br/dadospnct/PesquisaOD/BaseDeDados\n",
    "- IBGE: https://www.ibge.gov.br/geociencias/organizacao-do-territorio/redes-e-fluxos-geograficos/15794-rodoviarias-e-hidroviarias.html"
   ]
  },
  {
   "attachments": {},
   "cell_type": "markdown",
   "metadata": {},
   "source": [
    "## Importando bibliotecas"
   ]
  },
  {
   "cell_type": "code",
   "execution_count": 111,
   "metadata": {},
   "outputs": [],
   "source": [
    "import pandas as pd\n",
    "import seaborn as sns\n",
    "sns.set(rc={'figure.figsize':(6,3)})"
   ]
  },
  {
   "attachments": {},
   "cell_type": "markdown",
   "metadata": {},
   "source": [
    "## Carregando Dados"
   ]
  },
  {
   "attachments": {},
   "cell_type": "markdown",
   "metadata": {},
   "source": [
    "Dados do IBGE: \n",
    "- VAR05 - Frequência de saídas de veículos hidroviários no par de ligação\n",
    "- VAR06 - Frequência de saídas de veículos rodoviários no par de ligação\n",
    "- VAR07 - Frequência total de saídas de veículos no par de ligação"
   ]
  },
  {
   "cell_type": "code",
   "execution_count": 112,
   "metadata": {},
   "outputs": [
    {
     "data": {
      "text/html": [
       "<div>\n",
       "<style scoped>\n",
       "    .dataframe tbody tr th:only-of-type {\n",
       "        vertical-align: middle;\n",
       "    }\n",
       "\n",
       "    .dataframe tbody tr th {\n",
       "        vertical-align: top;\n",
       "    }\n",
       "\n",
       "    .dataframe thead th {\n",
       "        text-align: right;\n",
       "    }\n",
       "</style>\n",
       "<table border=\"1\" class=\"dataframe\">\n",
       "  <thead>\n",
       "    <tr style=\"text-align: right;\">\n",
       "      <th></th>\n",
       "      <th>ID</th>\n",
       "      <th>COD_UF_A</th>\n",
       "      <th>UF_A</th>\n",
       "      <th>CODMUNDV_A</th>\n",
       "      <th>NOMEMUN_A</th>\n",
       "      <th>COD_UF_B</th>\n",
       "      <th>UF_B</th>\n",
       "      <th>CODMUNDV_B</th>\n",
       "      <th>NOMEMUN_B</th>\n",
       "      <th>VAR01</th>\n",
       "      <th>...</th>\n",
       "      <th>VAR05</th>\n",
       "      <th>VAR06</th>\n",
       "      <th>VAR07</th>\n",
       "      <th>VAR08</th>\n",
       "      <th>VAR09</th>\n",
       "      <th>VAR10</th>\n",
       "      <th>VAR11</th>\n",
       "      <th>VAR12</th>\n",
       "      <th>VAR13</th>\n",
       "      <th>VAR14</th>\n",
       "    </tr>\n",
       "  </thead>\n",
       "  <tbody>\n",
       "    <tr>\n",
       "      <th>0</th>\n",
       "      <td>13026031304260</td>\n",
       "      <td>13</td>\n",
       "      <td>AM</td>\n",
       "      <td>1302603</td>\n",
       "      <td>Manaus</td>\n",
       "      <td>13</td>\n",
       "      <td>AM</td>\n",
       "      <td>1304260</td>\n",
       "      <td>Uarini</td>\n",
       "      <td>Núcleo de Metrópole (Manaus)</td>\n",
       "      <td>...</td>\n",
       "      <td>7.5</td>\n",
       "      <td>0.0</td>\n",
       "      <td>7.5</td>\n",
       "      <td>-60.023335</td>\n",
       "      <td>-3.134691</td>\n",
       "      <td>-65.155346</td>\n",
       "      <td>-2.983609</td>\n",
       "      <td>0.0</td>\n",
       "      <td>Não</td>\n",
       "      <td>0.023148</td>\n",
       "    </tr>\n",
       "    <tr>\n",
       "      <th>1</th>\n",
       "      <td>13021081302603</td>\n",
       "      <td>13</td>\n",
       "      <td>AM</td>\n",
       "      <td>1302108</td>\n",
       "      <td>Japurá</td>\n",
       "      <td>13</td>\n",
       "      <td>AM</td>\n",
       "      <td>1302603</td>\n",
       "      <td>Manaus</td>\n",
       "      <td>Centro Local</td>\n",
       "      <td>...</td>\n",
       "      <td>3.0</td>\n",
       "      <td>0.0</td>\n",
       "      <td>3.0</td>\n",
       "      <td>-66.996903</td>\n",
       "      <td>-1.880845</td>\n",
       "      <td>-60.023335</td>\n",
       "      <td>-3.134691</td>\n",
       "      <td>3.0</td>\n",
       "      <td>Não</td>\n",
       "      <td>0.026620</td>\n",
       "    </tr>\n",
       "    <tr>\n",
       "      <th>2</th>\n",
       "      <td>51038095108402</td>\n",
       "      <td>51</td>\n",
       "      <td>MT</td>\n",
       "      <td>5103809</td>\n",
       "      <td>Figueirópolis D'Oeste</td>\n",
       "      <td>51</td>\n",
       "      <td>MT</td>\n",
       "      <td>5108402</td>\n",
       "      <td>Várzea Grande</td>\n",
       "      <td>Centro Local</td>\n",
       "      <td>...</td>\n",
       "      <td>0.0</td>\n",
       "      <td>42.0</td>\n",
       "      <td>42.0</td>\n",
       "      <td>-58.737825</td>\n",
       "      <td>-15.446135</td>\n",
       "      <td>-56.144664</td>\n",
       "      <td>-15.658065</td>\n",
       "      <td>0.0</td>\n",
       "      <td>Sim</td>\n",
       "      <td>0.028000</td>\n",
       "    </tr>\n",
       "    <tr>\n",
       "      <th>3</th>\n",
       "      <td>13000291302603</td>\n",
       "      <td>13</td>\n",
       "      <td>AM</td>\n",
       "      <td>1300029</td>\n",
       "      <td>Alvarães</td>\n",
       "      <td>13</td>\n",
       "      <td>AM</td>\n",
       "      <td>1302603</td>\n",
       "      <td>Manaus</td>\n",
       "      <td>Centro Local</td>\n",
       "      <td>...</td>\n",
       "      <td>7.5</td>\n",
       "      <td>0.0</td>\n",
       "      <td>7.5</td>\n",
       "      <td>-64.813535</td>\n",
       "      <td>-3.216584</td>\n",
       "      <td>-60.023335</td>\n",
       "      <td>-3.134691</td>\n",
       "      <td>0.0</td>\n",
       "      <td>Não</td>\n",
       "      <td>0.031250</td>\n",
       "    </tr>\n",
       "    <tr>\n",
       "      <th>4</th>\n",
       "      <td>13000291301308</td>\n",
       "      <td>13</td>\n",
       "      <td>AM</td>\n",
       "      <td>1300029</td>\n",
       "      <td>Alvarães</td>\n",
       "      <td>13</td>\n",
       "      <td>AM</td>\n",
       "      <td>1301308</td>\n",
       "      <td>Codajás</td>\n",
       "      <td>Centro Local</td>\n",
       "      <td>...</td>\n",
       "      <td>6.0</td>\n",
       "      <td>0.0</td>\n",
       "      <td>6.0</td>\n",
       "      <td>-64.813535</td>\n",
       "      <td>-3.216584</td>\n",
       "      <td>-62.063430</td>\n",
       "      <td>-3.843046</td>\n",
       "      <td>0.0</td>\n",
       "      <td>Não</td>\n",
       "      <td>0.036232</td>\n",
       "    </tr>\n",
       "  </tbody>\n",
       "</table>\n",
       "<p>5 rows × 23 columns</p>\n",
       "</div>"
      ],
      "text/plain": [
       "               ID  COD_UF_A UF_A  CODMUNDV_A              NOMEMUN_A  COD_UF_B  \\\n",
       "0  13026031304260        13   AM     1302603                 Manaus        13   \n",
       "1  13021081302603        13   AM     1302108                 Japurá        13   \n",
       "2  51038095108402        51   MT     5103809  Figueirópolis D'Oeste        51   \n",
       "3  13000291302603        13   AM     1300029               Alvarães        13   \n",
       "4  13000291301308        13   AM     1300029               Alvarães        13   \n",
       "\n",
       "  UF_B  CODMUNDV_B      NOMEMUN_B                         VAR01  ... VAR05  \\\n",
       "0   AM     1304260         Uarini  Núcleo de Metrópole (Manaus)  ...   7.5   \n",
       "1   AM     1302603         Manaus                  Centro Local  ...   3.0   \n",
       "2   MT     5108402  Várzea Grande                  Centro Local  ...   0.0   \n",
       "3   AM     1302603         Manaus                  Centro Local  ...   7.5   \n",
       "4   AM     1301308        Codajás                  Centro Local  ...   6.0   \n",
       "\n",
       "   VAR06  VAR07      VAR08      VAR09      VAR10      VAR11  VAR12  VAR13  \\\n",
       "0    0.0    7.5 -60.023335  -3.134691 -65.155346  -2.983609    0.0    Não   \n",
       "1    0.0    3.0 -66.996903  -1.880845 -60.023335  -3.134691    3.0    Não   \n",
       "2   42.0   42.0 -58.737825 -15.446135 -56.144664 -15.658065    0.0    Sim   \n",
       "3    0.0    7.5 -64.813535  -3.216584 -60.023335  -3.134691    0.0    Não   \n",
       "4    0.0    6.0 -64.813535  -3.216584 -62.063430  -3.843046    0.0    Não   \n",
       "\n",
       "      VAR14  \n",
       "0  0.023148  \n",
       "1  0.026620  \n",
       "2  0.028000  \n",
       "3  0.031250  \n",
       "4  0.036232  \n",
       "\n",
       "[5 rows x 23 columns]"
      ]
     },
     "execution_count": 112,
     "metadata": {},
     "output_type": "execute_result"
    }
   ],
   "source": [
    "#Carregando dados do IBGE\n",
    "df_ibge = pd.read_excel(open('data/Base_de_dados_ligacoes_rodoviarias_e_hidroviarias_2016.xlsx', 'rb'), sheet_name='Base de dados', \n",
    "                               dtype = {'ID': int, 'CODMUNDV_A': int, 'CODMUNDV_B': int}) \n",
    "df_ibge.head()"
   ]
  },
  {
   "cell_type": "code",
   "execution_count": 158,
   "metadata": {},
   "outputs": [
    {
     "data": {
      "text/html": [
       "<div>\n",
       "<style scoped>\n",
       "    .dataframe tbody tr th:only-of-type {\n",
       "        vertical-align: middle;\n",
       "    }\n",
       "\n",
       "    .dataframe tbody tr th {\n",
       "        vertical-align: top;\n",
       "    }\n",
       "\n",
       "    .dataframe thead th {\n",
       "        text-align: right;\n",
       "    }\n",
       "</style>\n",
       "<table border=\"1\" class=\"dataframe\">\n",
       "  <thead>\n",
       "    <tr style=\"text-align: right;\">\n",
       "      <th></th>\n",
       "      <th>idPesquisa</th>\n",
       "      <th>idOD</th>\n",
       "      <th>idPosto</th>\n",
       "      <th>Sentido</th>\n",
       "      <th>DataIniPesq</th>\n",
       "      <th>DataFimPesq</th>\n",
       "      <th>POrigem</th>\n",
       "      <th>MOrigem</th>\n",
       "      <th>UFOrigem</th>\n",
       "      <th>NodeIDOrigem</th>\n",
       "      <th>...</th>\n",
       "      <th>MunDesembCarga</th>\n",
       "      <th>UFDesembCarga</th>\n",
       "      <th>LocalDesembCarga</th>\n",
       "      <th>IndoPegarCarga</th>\n",
       "      <th>MunParadaObr1</th>\n",
       "      <th>UFParadaObr1</th>\n",
       "      <th>MunParadaObr2</th>\n",
       "      <th>UFParadaObr2</th>\n",
       "      <th>considerar_parOD?</th>\n",
       "      <th>considerar_socio?</th>\n",
       "    </tr>\n",
       "  </thead>\n",
       "  <tbody>\n",
       "    <tr>\n",
       "      <th>0</th>\n",
       "      <td>4</td>\n",
       "      <td>1</td>\n",
       "      <td>231</td>\n",
       "      <td>AB</td>\n",
       "      <td>2017-11-18 06:53:15</td>\n",
       "      <td>2017-11-18 06:57:15</td>\n",
       "      <td>Brasil</td>\n",
       "      <td>Guapiara</td>\n",
       "      <td>SP</td>\n",
       "      <td>18048.0</td>\n",
       "      <td>...</td>\n",
       "      <td>NaN</td>\n",
       "      <td>NaN</td>\n",
       "      <td>NaN</td>\n",
       "      <td>NaN</td>\n",
       "      <td>NaN</td>\n",
       "      <td>NaN</td>\n",
       "      <td>NaN</td>\n",
       "      <td>NaN</td>\n",
       "      <td>1</td>\n",
       "      <td>1</td>\n",
       "    </tr>\n",
       "    <tr>\n",
       "      <th>1</th>\n",
       "      <td>4</td>\n",
       "      <td>2</td>\n",
       "      <td>231</td>\n",
       "      <td>AB</td>\n",
       "      <td>2017-11-18 06:58:30</td>\n",
       "      <td>2017-11-18 07:09:56</td>\n",
       "      <td>Brasil</td>\n",
       "      <td>Capão Bonito</td>\n",
       "      <td>SP</td>\n",
       "      <td>18058.0</td>\n",
       "      <td>...</td>\n",
       "      <td>Não informado</td>\n",
       "      <td>Não informado</td>\n",
       "      <td>Não informado</td>\n",
       "      <td>NaN</td>\n",
       "      <td>NaN</td>\n",
       "      <td>NaN</td>\n",
       "      <td>NaN</td>\n",
       "      <td>NaN</td>\n",
       "      <td>1</td>\n",
       "      <td>1</td>\n",
       "    </tr>\n",
       "    <tr>\n",
       "      <th>2</th>\n",
       "      <td>4</td>\n",
       "      <td>3</td>\n",
       "      <td>231</td>\n",
       "      <td>AB</td>\n",
       "      <td>2017-11-18 07:13:04</td>\n",
       "      <td>2017-11-18 07:15:59</td>\n",
       "      <td>Brasil</td>\n",
       "      <td>Sorocaba</td>\n",
       "      <td>SP</td>\n",
       "      <td>18239.0</td>\n",
       "      <td>...</td>\n",
       "      <td>NaN</td>\n",
       "      <td>NaN</td>\n",
       "      <td>NaN</td>\n",
       "      <td>NaN</td>\n",
       "      <td>NaN</td>\n",
       "      <td>NaN</td>\n",
       "      <td>NaN</td>\n",
       "      <td>NaN</td>\n",
       "      <td>1</td>\n",
       "      <td>1</td>\n",
       "    </tr>\n",
       "    <tr>\n",
       "      <th>3</th>\n",
       "      <td>4</td>\n",
       "      <td>4</td>\n",
       "      <td>231</td>\n",
       "      <td>AB</td>\n",
       "      <td>2017-11-18 07:17:52</td>\n",
       "      <td>2017-11-18 07:20:11</td>\n",
       "      <td>Brasil</td>\n",
       "      <td>Sorocaba</td>\n",
       "      <td>SP</td>\n",
       "      <td>18239.0</td>\n",
       "      <td>...</td>\n",
       "      <td>NaN</td>\n",
       "      <td>NaN</td>\n",
       "      <td>NaN</td>\n",
       "      <td>NaN</td>\n",
       "      <td>NaN</td>\n",
       "      <td>NaN</td>\n",
       "      <td>NaN</td>\n",
       "      <td>NaN</td>\n",
       "      <td>1</td>\n",
       "      <td>1</td>\n",
       "    </tr>\n",
       "    <tr>\n",
       "      <th>4</th>\n",
       "      <td>4</td>\n",
       "      <td>5</td>\n",
       "      <td>231</td>\n",
       "      <td>AB</td>\n",
       "      <td>2017-11-18 07:21:24</td>\n",
       "      <td>2017-11-18 07:24:34</td>\n",
       "      <td>Brasil</td>\n",
       "      <td>São Paulo</td>\n",
       "      <td>SP</td>\n",
       "      <td>18290.0</td>\n",
       "      <td>...</td>\n",
       "      <td>NaN</td>\n",
       "      <td>NaN</td>\n",
       "      <td>NaN</td>\n",
       "      <td>NaN</td>\n",
       "      <td>NaN</td>\n",
       "      <td>NaN</td>\n",
       "      <td>NaN</td>\n",
       "      <td>NaN</td>\n",
       "      <td>1</td>\n",
       "      <td>1</td>\n",
       "    </tr>\n",
       "  </tbody>\n",
       "</table>\n",
       "<p>5 rows × 65 columns</p>\n",
       "</div>"
      ],
      "text/plain": [
       "   idPesquisa  idOD  idPosto Sentido         DataIniPesq         DataFimPesq  \\\n",
       "0           4     1      231      AB 2017-11-18 06:53:15 2017-11-18 06:57:15   \n",
       "1           4     2      231      AB 2017-11-18 06:58:30 2017-11-18 07:09:56   \n",
       "2           4     3      231      AB 2017-11-18 07:13:04 2017-11-18 07:15:59   \n",
       "3           4     4      231      AB 2017-11-18 07:17:52 2017-11-18 07:20:11   \n",
       "4           4     5      231      AB 2017-11-18 07:21:24 2017-11-18 07:24:34   \n",
       "\n",
       "  POrigem       MOrigem UFOrigem  NodeIDOrigem  ...  MunDesembCarga  \\\n",
       "0  Brasil      Guapiara       SP       18048.0  ...             NaN   \n",
       "1  Brasil  Capão Bonito       SP       18058.0  ...   Não informado   \n",
       "2  Brasil      Sorocaba       SP       18239.0  ...             NaN   \n",
       "3  Brasil      Sorocaba       SP       18239.0  ...             NaN   \n",
       "4  Brasil     São Paulo       SP       18290.0  ...             NaN   \n",
       "\n",
       "   UFDesembCarga LocalDesembCarga IndoPegarCarga MunParadaObr1  UFParadaObr1  \\\n",
       "0            NaN              NaN            NaN           NaN           NaN   \n",
       "1  Não informado    Não informado            NaN           NaN           NaN   \n",
       "2            NaN              NaN            NaN           NaN           NaN   \n",
       "3            NaN              NaN            NaN           NaN           NaN   \n",
       "4            NaN              NaN            NaN           NaN           NaN   \n",
       "\n",
       "  MunParadaObr2 UFParadaObr2 considerar_parOD? considerar_socio?  \n",
       "0           NaN          NaN                 1                 1  \n",
       "1           NaN          NaN                 1                 1  \n",
       "2           NaN          NaN                 1                 1  \n",
       "3           NaN          NaN                 1                 1  \n",
       "4           NaN          NaN                 1                 1  \n",
       "\n",
       "[5 rows x 65 columns]"
      ]
     },
     "execution_count": 158,
     "metadata": {},
     "output_type": "execute_result"
    }
   ],
   "source": [
    "# Carregando dados DNIT\n",
    "df_dnit_2016_1 = pd.read_excel(open('data/PesquisaOD_2016_2017.xlsx', 'rb'), sheet_name='BD_2PNT2017') \n",
    "df_dnit_2016_1.head()"
   ]
  },
  {
   "attachments": {},
   "cell_type": "markdown",
   "metadata": {},
   "source": [
    "## Análise preliminar"
   ]
  },
  {
   "attachments": {},
   "cell_type": "markdown",
   "metadata": {},
   "source": [
    "### Verificando tipos dos dados"
   ]
  },
  {
   "cell_type": "code",
   "execution_count": 159,
   "metadata": {},
   "outputs": [
    {
     "data": {
      "text/plain": [
       "ID              int64\n",
       "COD_UF_A        int64\n",
       "UF_A           object\n",
       "CODMUNDV_A      int64\n",
       "NOMEMUN_A      object\n",
       "COD_UF_B        int64\n",
       "UF_B           object\n",
       "CODMUNDV_B      int64\n",
       "NOMEMUN_B      object\n",
       "VAR01          object\n",
       "VAR02          object\n",
       "VAR03         float64\n",
       "VAR04           int64\n",
       "VAR05         float64\n",
       "VAR06         float64\n",
       "VAR07         float64\n",
       "VAR08         float64\n",
       "VAR09         float64\n",
       "VAR10         float64\n",
       "VAR11         float64\n",
       "VAR12         float64\n",
       "VAR13          object\n",
       "VAR14         float64\n",
       "dtype: object"
      ]
     },
     "execution_count": 159,
     "metadata": {},
     "output_type": "execute_result"
    }
   ],
   "source": [
    "df_ibge.dtypes"
   ]
  },
  {
   "cell_type": "code",
   "execution_count": 160,
   "metadata": {},
   "outputs": [
    {
     "data": {
      "text/plain": [
       "idPesquisa                    int64\n",
       "idOD                          int64\n",
       "idPosto                       int64\n",
       "Sentido                      object\n",
       "DataIniPesq          datetime64[ns]\n",
       "                          ...      \n",
       "UFParadaObr1                 object\n",
       "MunParadaObr2                object\n",
       "UFParadaObr2                 object\n",
       "considerar_parOD?             int64\n",
       "considerar_socio?             int64\n",
       "Length: 65, dtype: object"
      ]
     },
     "execution_count": 160,
     "metadata": {},
     "output_type": "execute_result"
    }
   ],
   "source": [
    "df_dnit_2016_1.dtypes"
   ]
  },
  {
   "cell_type": "code",
   "execution_count": 161,
   "metadata": {},
   "outputs": [
    {
     "data": {
      "text/plain": [
       "GeocodOrigem     float64\n",
       "GeocodDestino    float64\n",
       "dtype: object"
      ]
     },
     "execution_count": 161,
     "metadata": {},
     "output_type": "execute_result"
    }
   ],
   "source": [
    "df_dnit_2016_1[[\"GeocodOrigem\", \"GeocodDestino\"]].dtypes"
   ]
  },
  {
   "attachments": {},
   "cell_type": "markdown",
   "metadata": {},
   "source": [
    "### Verificando dados faltantes"
   ]
  },
  {
   "cell_type": "code",
   "execution_count": 162,
   "metadata": {},
   "outputs": [
    {
     "data": {
      "text/html": [
       "<div>\n",
       "<style scoped>\n",
       "    .dataframe tbody tr th:only-of-type {\n",
       "        vertical-align: middle;\n",
       "    }\n",
       "\n",
       "    .dataframe tbody tr th {\n",
       "        vertical-align: top;\n",
       "    }\n",
       "\n",
       "    .dataframe thead th {\n",
       "        text-align: right;\n",
       "    }\n",
       "</style>\n",
       "<table border=\"1\" class=\"dataframe\">\n",
       "  <thead>\n",
       "    <tr style=\"text-align: right;\">\n",
       "      <th></th>\n",
       "      <th>ID</th>\n",
       "      <th>COD_UF_A</th>\n",
       "      <th>UF_A</th>\n",
       "      <th>CODMUNDV_A</th>\n",
       "      <th>NOMEMUN_A</th>\n",
       "      <th>COD_UF_B</th>\n",
       "      <th>UF_B</th>\n",
       "      <th>CODMUNDV_B</th>\n",
       "      <th>NOMEMUN_B</th>\n",
       "      <th>VAR01</th>\n",
       "      <th>...</th>\n",
       "      <th>VAR05</th>\n",
       "      <th>VAR06</th>\n",
       "      <th>VAR07</th>\n",
       "      <th>VAR08</th>\n",
       "      <th>VAR09</th>\n",
       "      <th>VAR10</th>\n",
       "      <th>VAR11</th>\n",
       "      <th>VAR12</th>\n",
       "      <th>VAR13</th>\n",
       "      <th>VAR14</th>\n",
       "    </tr>\n",
       "  </thead>\n",
       "  <tbody>\n",
       "  </tbody>\n",
       "</table>\n",
       "<p>0 rows × 23 columns</p>\n",
       "</div>"
      ],
      "text/plain": [
       "Empty DataFrame\n",
       "Columns: [ID, COD_UF_A, UF_A, CODMUNDV_A, NOMEMUN_A, COD_UF_B, UF_B, CODMUNDV_B, NOMEMUN_B, VAR01, VAR02, VAR03, VAR04, VAR05, VAR06, VAR07, VAR08, VAR09, VAR10, VAR11, VAR12, VAR13, VAR14]\n",
       "Index: []\n",
       "\n",
       "[0 rows x 23 columns]"
      ]
     },
     "execution_count": 162,
     "metadata": {},
     "output_type": "execute_result"
    }
   ],
   "source": [
    "df_ibge[df_ibge[\"VAR05\"].isnull()]\n",
    "df_ibge[df_ibge[\"VAR06\"].isnull()]\n",
    "df_ibge[df_ibge[\"VAR07\"].isnull()]\n",
    "#Não há dados faltantes no IBGE"
   ]
  },
  {
   "attachments": {},
   "cell_type": "markdown",
   "metadata": {},
   "source": [
    "Não foi encontrado dados faltantates no IBGE"
   ]
  },
  {
   "cell_type": "code",
   "execution_count": null,
   "metadata": {},
   "outputs": [],
   "source": []
  },
  {
   "attachments": {},
   "cell_type": "markdown",
   "metadata": {},
   "source": [
    "### Verficando distribuição dos dados"
   ]
  },
  {
   "attachments": {},
   "cell_type": "markdown",
   "metadata": {},
   "source": [
    "Distribuição IBGE"
   ]
  },
  {
   "cell_type": "code",
   "execution_count": 163,
   "metadata": {},
   "outputs": [
    {
     "data": {
      "text/html": [
       "<div>\n",
       "<style scoped>\n",
       "    .dataframe tbody tr th:only-of-type {\n",
       "        vertical-align: middle;\n",
       "    }\n",
       "\n",
       "    .dataframe tbody tr th {\n",
       "        vertical-align: top;\n",
       "    }\n",
       "\n",
       "    .dataframe thead th {\n",
       "        text-align: right;\n",
       "    }\n",
       "</style>\n",
       "<table border=\"1\" class=\"dataframe\">\n",
       "  <thead>\n",
       "    <tr style=\"text-align: right;\">\n",
       "      <th></th>\n",
       "      <th>VAR05</th>\n",
       "      <th>VAR06</th>\n",
       "      <th>VAR07</th>\n",
       "    </tr>\n",
       "  </thead>\n",
       "  <tbody>\n",
       "    <tr>\n",
       "      <th>count</th>\n",
       "      <td>65638.000000</td>\n",
       "      <td>65638.000000</td>\n",
       "      <td>65638.000000</td>\n",
       "    </tr>\n",
       "    <tr>\n",
       "      <th>mean</th>\n",
       "      <td>0.157580</td>\n",
       "      <td>47.763445</td>\n",
       "      <td>47.921025</td>\n",
       "    </tr>\n",
       "    <tr>\n",
       "      <th>std</th>\n",
       "      <td>4.600863</td>\n",
       "      <td>99.994426</td>\n",
       "      <td>100.094421</td>\n",
       "    </tr>\n",
       "    <tr>\n",
       "      <th>min</th>\n",
       "      <td>0.000000</td>\n",
       "      <td>0.000000</td>\n",
       "      <td>0.250000</td>\n",
       "    </tr>\n",
       "    <tr>\n",
       "      <th>25%</th>\n",
       "      <td>0.000000</td>\n",
       "      <td>9.000000</td>\n",
       "      <td>10.000000</td>\n",
       "    </tr>\n",
       "    <tr>\n",
       "      <th>50%</th>\n",
       "      <td>0.000000</td>\n",
       "      <td>20.000000</td>\n",
       "      <td>20.000000</td>\n",
       "    </tr>\n",
       "    <tr>\n",
       "      <th>75%</th>\n",
       "      <td>0.000000</td>\n",
       "      <td>44.000000</td>\n",
       "      <td>44.000000</td>\n",
       "    </tr>\n",
       "    <tr>\n",
       "      <th>max</th>\n",
       "      <td>539.000000</td>\n",
       "      <td>2855.000000</td>\n",
       "      <td>2855.000000</td>\n",
       "    </tr>\n",
       "  </tbody>\n",
       "</table>\n",
       "</div>"
      ],
      "text/plain": [
       "              VAR05         VAR06         VAR07\n",
       "count  65638.000000  65638.000000  65638.000000\n",
       "mean       0.157580     47.763445     47.921025\n",
       "std        4.600863     99.994426    100.094421\n",
       "min        0.000000      0.000000      0.250000\n",
       "25%        0.000000      9.000000     10.000000\n",
       "50%        0.000000     20.000000     20.000000\n",
       "75%        0.000000     44.000000     44.000000\n",
       "max      539.000000   2855.000000   2855.000000"
      ]
     },
     "execution_count": 163,
     "metadata": {},
     "output_type": "execute_result"
    }
   ],
   "source": [
    "df_ibge[[\"VAR05\", \"VAR06\", \"VAR07\"]].describe()"
   ]
  },
  {
   "cell_type": "code",
   "execution_count": 164,
   "metadata": {},
   "outputs": [
    {
     "data": {
      "text/plain": [
       "<AxesSubplot: xlabel='VAR06'>"
      ]
     },
     "execution_count": 164,
     "metadata": {},
     "output_type": "execute_result"
    },
    {
     "data": {
      "image/png": "[encoded data removed]",
      "text/plain": [
       "<Figure size 1000x600 with 1 Axes>"
      ]
     },
     "metadata": {},
     "output_type": "display_data"
    }
   ],
   "source": [
    "sns.boxplot(data=df_ibge, x=\"VAR06\")"
   ]
  },
  {
   "attachments": {},
   "cell_type": "markdown",
   "metadata": {},
   "source": [
    "Observações do IBGE:\n",
    "- Os dados IBGE apresentam 65638 ligações"
   ]
  },
  {
   "attachments": {},
   "cell_type": "markdown",
   "metadata": {},
   "source": [
    "Distribuição DNIT"
   ]
  },
  {
   "attachments": {},
   "cell_type": "markdown",
   "metadata": {},
   "source": [
    "Processando dados do DNIT para o mesmo formato do IBGE"
   ]
  },
  {
   "cell_type": "code",
   "execution_count": 165,
   "metadata": {},
   "outputs": [
    {
     "data": {
      "text/html": [
       "<div>\n",
       "<style scoped>\n",
       "    .dataframe tbody tr th:only-of-type {\n",
       "        vertical-align: middle;\n",
       "    }\n",
       "\n",
       "    .dataframe tbody tr th {\n",
       "        vertical-align: top;\n",
       "    }\n",
       "\n",
       "    .dataframe thead th {\n",
       "        text-align: right;\n",
       "    }\n",
       "</style>\n",
       "<table border=\"1\" class=\"dataframe\">\n",
       "  <thead>\n",
       "    <tr style=\"text-align: right;\">\n",
       "      <th></th>\n",
       "      <th>idPesquisa</th>\n",
       "      <th>idOD</th>\n",
       "      <th>idPosto</th>\n",
       "      <th>Sentido</th>\n",
       "      <th>DataIniPesq</th>\n",
       "      <th>DataFimPesq</th>\n",
       "      <th>POrigem</th>\n",
       "      <th>MOrigem</th>\n",
       "      <th>UFOrigem</th>\n",
       "      <th>NodeIDOrigem</th>\n",
       "      <th>...</th>\n",
       "      <th>MunDesembCarga</th>\n",
       "      <th>UFDesembCarga</th>\n",
       "      <th>LocalDesembCarga</th>\n",
       "      <th>IndoPegarCarga</th>\n",
       "      <th>MunParadaObr1</th>\n",
       "      <th>UFParadaObr1</th>\n",
       "      <th>MunParadaObr2</th>\n",
       "      <th>UFParadaObr2</th>\n",
       "      <th>considerar_parOD?</th>\n",
       "      <th>considerar_socio?</th>\n",
       "    </tr>\n",
       "  </thead>\n",
       "  <tbody>\n",
       "    <tr>\n",
       "      <th>0</th>\n",
       "      <td>4</td>\n",
       "      <td>1</td>\n",
       "      <td>231</td>\n",
       "      <td>AB</td>\n",
       "      <td>2017-11-18 06:53:15</td>\n",
       "      <td>2017-11-18 06:57:15</td>\n",
       "      <td>Brasil</td>\n",
       "      <td>Guapiara</td>\n",
       "      <td>SP</td>\n",
       "      <td>18048.0</td>\n",
       "      <td>...</td>\n",
       "      <td>NaN</td>\n",
       "      <td>NaN</td>\n",
       "      <td>NaN</td>\n",
       "      <td>NaN</td>\n",
       "      <td>NaN</td>\n",
       "      <td>NaN</td>\n",
       "      <td>NaN</td>\n",
       "      <td>NaN</td>\n",
       "      <td>1</td>\n",
       "      <td>1</td>\n",
       "    </tr>\n",
       "    <tr>\n",
       "      <th>1</th>\n",
       "      <td>4</td>\n",
       "      <td>2</td>\n",
       "      <td>231</td>\n",
       "      <td>AB</td>\n",
       "      <td>2017-11-18 06:58:30</td>\n",
       "      <td>2017-11-18 07:09:56</td>\n",
       "      <td>Brasil</td>\n",
       "      <td>Capão Bonito</td>\n",
       "      <td>SP</td>\n",
       "      <td>18058.0</td>\n",
       "      <td>...</td>\n",
       "      <td>Não informado</td>\n",
       "      <td>Não informado</td>\n",
       "      <td>Não informado</td>\n",
       "      <td>NaN</td>\n",
       "      <td>NaN</td>\n",
       "      <td>NaN</td>\n",
       "      <td>NaN</td>\n",
       "      <td>NaN</td>\n",
       "      <td>1</td>\n",
       "      <td>1</td>\n",
       "    </tr>\n",
       "    <tr>\n",
       "      <th>2</th>\n",
       "      <td>4</td>\n",
       "      <td>3</td>\n",
       "      <td>231</td>\n",
       "      <td>AB</td>\n",
       "      <td>2017-11-18 07:13:04</td>\n",
       "      <td>2017-11-18 07:15:59</td>\n",
       "      <td>Brasil</td>\n",
       "      <td>Sorocaba</td>\n",
       "      <td>SP</td>\n",
       "      <td>18239.0</td>\n",
       "      <td>...</td>\n",
       "      <td>NaN</td>\n",
       "      <td>NaN</td>\n",
       "      <td>NaN</td>\n",
       "      <td>NaN</td>\n",
       "      <td>NaN</td>\n",
       "      <td>NaN</td>\n",
       "      <td>NaN</td>\n",
       "      <td>NaN</td>\n",
       "      <td>1</td>\n",
       "      <td>1</td>\n",
       "    </tr>\n",
       "    <tr>\n",
       "      <th>3</th>\n",
       "      <td>4</td>\n",
       "      <td>4</td>\n",
       "      <td>231</td>\n",
       "      <td>AB</td>\n",
       "      <td>2017-11-18 07:17:52</td>\n",
       "      <td>2017-11-18 07:20:11</td>\n",
       "      <td>Brasil</td>\n",
       "      <td>Sorocaba</td>\n",
       "      <td>SP</td>\n",
       "      <td>18239.0</td>\n",
       "      <td>...</td>\n",
       "      <td>NaN</td>\n",
       "      <td>NaN</td>\n",
       "      <td>NaN</td>\n",
       "      <td>NaN</td>\n",
       "      <td>NaN</td>\n",
       "      <td>NaN</td>\n",
       "      <td>NaN</td>\n",
       "      <td>NaN</td>\n",
       "      <td>1</td>\n",
       "      <td>1</td>\n",
       "    </tr>\n",
       "    <tr>\n",
       "      <th>4</th>\n",
       "      <td>4</td>\n",
       "      <td>5</td>\n",
       "      <td>231</td>\n",
       "      <td>AB</td>\n",
       "      <td>2017-11-18 07:21:24</td>\n",
       "      <td>2017-11-18 07:24:34</td>\n",
       "      <td>Brasil</td>\n",
       "      <td>São Paulo</td>\n",
       "      <td>SP</td>\n",
       "      <td>18290.0</td>\n",
       "      <td>...</td>\n",
       "      <td>NaN</td>\n",
       "      <td>NaN</td>\n",
       "      <td>NaN</td>\n",
       "      <td>NaN</td>\n",
       "      <td>NaN</td>\n",
       "      <td>NaN</td>\n",
       "      <td>NaN</td>\n",
       "      <td>NaN</td>\n",
       "      <td>1</td>\n",
       "      <td>1</td>\n",
       "    </tr>\n",
       "  </tbody>\n",
       "</table>\n",
       "<p>5 rows × 65 columns</p>\n",
       "</div>"
      ],
      "text/plain": [
       "   idPesquisa  idOD  idPosto Sentido         DataIniPesq         DataFimPesq  \\\n",
       "0           4     1      231      AB 2017-11-18 06:53:15 2017-11-18 06:57:15   \n",
       "1           4     2      231      AB 2017-11-18 06:58:30 2017-11-18 07:09:56   \n",
       "2           4     3      231      AB 2017-11-18 07:13:04 2017-11-18 07:15:59   \n",
       "3           4     4      231      AB 2017-11-18 07:17:52 2017-11-18 07:20:11   \n",
       "4           4     5      231      AB 2017-11-18 07:21:24 2017-11-18 07:24:34   \n",
       "\n",
       "  POrigem       MOrigem UFOrigem  NodeIDOrigem  ...  MunDesembCarga  \\\n",
       "0  Brasil      Guapiara       SP       18048.0  ...             NaN   \n",
       "1  Brasil  Capão Bonito       SP       18058.0  ...   Não informado   \n",
       "2  Brasil      Sorocaba       SP       18239.0  ...             NaN   \n",
       "3  Brasil      Sorocaba       SP       18239.0  ...             NaN   \n",
       "4  Brasil     São Paulo       SP       18290.0  ...             NaN   \n",
       "\n",
       "   UFDesembCarga LocalDesembCarga IndoPegarCarga MunParadaObr1  UFParadaObr1  \\\n",
       "0            NaN              NaN            NaN           NaN           NaN   \n",
       "1  Não informado    Não informado            NaN           NaN           NaN   \n",
       "2            NaN              NaN            NaN           NaN           NaN   \n",
       "3            NaN              NaN            NaN           NaN           NaN   \n",
       "4            NaN              NaN            NaN           NaN           NaN   \n",
       "\n",
       "  MunParadaObr2 UFParadaObr2 considerar_parOD? considerar_socio?  \n",
       "0           NaN          NaN                 1                 1  \n",
       "1           NaN          NaN                 1                 1  \n",
       "2           NaN          NaN                 1                 1  \n",
       "3           NaN          NaN                 1                 1  \n",
       "4           NaN          NaN                 1                 1  \n",
       "\n",
       "[5 rows x 65 columns]"
      ]
     },
     "execution_count": 165,
     "metadata": {},
     "output_type": "execute_result"
    }
   ],
   "source": [
    "#Removendo linhas com origem e destino faltante\n",
    "df_dnit_2016_1 = df_dnit_2016_1[(df_dnit_2016_1['GeocodOrigem'].notna()) & (df_dnit_2016_1['GeocodDestino'].notna())]\n",
    "df_dnit_2016_1 = df_dnit_2016_1.astype({\"GeocodOrigem\": int, \"GeocodDestino\": int})\n",
    "df_dnit_2016_1.head()"
   ]
  },
  {
   "cell_type": "code",
   "execution_count": 166,
   "metadata": {},
   "outputs": [],
   "source": [
    "#Filtrando observações por tipo de automóvel\n",
    "df_dnit_2016_1 = df_dnit_2016_1[(df_dnit_2016_1['Classe']==\"P2\") \n",
    "             | (df_dnit_2016_1['Classe']==\"O1\") \n",
    "             | (df_dnit_2016_1['Classe']==\"O2\") \n",
    "             | (df_dnit_2016_1['Classe']==\"O3\")] "
   ]
  },
  {
   "cell_type": "code",
   "execution_count": 167,
   "metadata": {},
   "outputs": [
    {
     "data": {
      "text/plain": [
       "(8864, 65)"
      ]
     },
     "execution_count": 167,
     "metadata": {},
     "output_type": "execute_result"
    }
   ],
   "source": [
    "#Tamanho depois da filtragem\n",
    "df_dnit_2016_1.shape"
   ]
  },
  {
   "cell_type": "code",
   "execution_count": 168,
   "metadata": {},
   "outputs": [],
   "source": [
    "#Verificando se existem origem e destinos iguais\n",
    "# df_dnit_2016_1[(df_dnit_2016_1[\"GeocodOrigem\"]==5003702.0)&(df_dnit_2016_1[\"GeocodDestino\"]==5003702.0)]"
   ]
  },
  {
   "cell_type": "code",
   "execution_count": 169,
   "metadata": {},
   "outputs": [
    {
     "data": {
      "text/html": [
       "<div>\n",
       "<style scoped>\n",
       "    .dataframe tbody tr th:only-of-type {\n",
       "        vertical-align: middle;\n",
       "    }\n",
       "\n",
       "    .dataframe tbody tr th {\n",
       "        vertical-align: top;\n",
       "    }\n",
       "\n",
       "    .dataframe thead th {\n",
       "        text-align: right;\n",
       "    }\n",
       "</style>\n",
       "<table border=\"1\" class=\"dataframe\">\n",
       "  <thead>\n",
       "    <tr style=\"text-align: right;\">\n",
       "      <th></th>\n",
       "      <th>GeocodOrigem</th>\n",
       "      <th>GeocodDestino</th>\n",
       "      <th>count</th>\n",
       "    </tr>\n",
       "  </thead>\n",
       "  <tbody>\n",
       "    <tr>\n",
       "      <th>0</th>\n",
       "      <td>1100023</td>\n",
       "      <td>1100049</td>\n",
       "      <td>3</td>\n",
       "    </tr>\n",
       "    <tr>\n",
       "      <th>1</th>\n",
       "      <td>1100023</td>\n",
       "      <td>1100205</td>\n",
       "      <td>1</td>\n",
       "    </tr>\n",
       "    <tr>\n",
       "      <th>2</th>\n",
       "      <td>1100023</td>\n",
       "      <td>1100304</td>\n",
       "      <td>1</td>\n",
       "    </tr>\n",
       "    <tr>\n",
       "      <th>3</th>\n",
       "      <td>1100023</td>\n",
       "      <td>1101468</td>\n",
       "      <td>1</td>\n",
       "    </tr>\n",
       "    <tr>\n",
       "      <th>4</th>\n",
       "      <td>1100049</td>\n",
       "      <td>1100049</td>\n",
       "      <td>8</td>\n",
       "    </tr>\n",
       "    <tr>\n",
       "      <th>...</th>\n",
       "      <td>...</td>\n",
       "      <td>...</td>\n",
       "      <td>...</td>\n",
       "    </tr>\n",
       "    <tr>\n",
       "      <th>4374</th>\n",
       "      <td>5300108</td>\n",
       "      <td>5211800</td>\n",
       "      <td>5</td>\n",
       "    </tr>\n",
       "    <tr>\n",
       "      <th>4375</th>\n",
       "      <td>5300108</td>\n",
       "      <td>5218300</td>\n",
       "      <td>1</td>\n",
       "    </tr>\n",
       "    <tr>\n",
       "      <th>4376</th>\n",
       "      <td>5300108</td>\n",
       "      <td>5218904</td>\n",
       "      <td>1</td>\n",
       "    </tr>\n",
       "    <tr>\n",
       "      <th>4377</th>\n",
       "      <td>5300108</td>\n",
       "      <td>5221700</td>\n",
       "      <td>1</td>\n",
       "    </tr>\n",
       "    <tr>\n",
       "      <th>4378</th>\n",
       "      <td>5300108</td>\n",
       "      <td>5300108</td>\n",
       "      <td>1</td>\n",
       "    </tr>\n",
       "  </tbody>\n",
       "</table>\n",
       "<p>4379 rows × 3 columns</p>\n",
       "</div>"
      ],
      "text/plain": [
       "      GeocodOrigem  GeocodDestino  count\n",
       "0          1100023        1100049      3\n",
       "1          1100023        1100205      1\n",
       "2          1100023        1100304      1\n",
       "3          1100023        1101468      1\n",
       "4          1100049        1100049      8\n",
       "...            ...            ...    ...\n",
       "4374       5300108        5211800      5\n",
       "4375       5300108        5218300      1\n",
       "4376       5300108        5218904      1\n",
       "4377       5300108        5221700      1\n",
       "4378       5300108        5300108      1\n",
       "\n",
       "[4379 rows x 3 columns]"
      ]
     },
     "execution_count": 169,
     "metadata": {},
     "output_type": "execute_result"
    }
   ],
   "source": [
    "#Agrupando ocorrência ligações\n",
    "df_dnit = pd.DataFrame({'freq_semanal' : df_dnit_2016_1.groupby( [ \"GeocodOrigem\", \"GeocodDestino\" ] ).size()}).reset_index()\n",
    "df_dnit\n"
   ]
  },
  {
   "attachments": {},
   "cell_type": "markdown",
   "metadata": {},
   "source": [
    "Removendo ligações com GeocodOrigem==GeocodDestino"
   ]
  },
  {
   "cell_type": "code",
   "execution_count": 170,
   "metadata": {},
   "outputs": [],
   "source": [
    "df_dnit = df_dnit[df_dnit[\"GeocodOrigem\"]!=df_dnit[\"GeocodDestino\"]]"
   ]
  },
  {
   "attachments": {},
   "cell_type": "markdown",
   "metadata": {},
   "source": [
    "Ligações com maiores quantidades"
   ]
  },
  {
   "cell_type": "code",
   "execution_count": 171,
   "metadata": {},
   "outputs": [
    {
     "data": {
      "text/html": [
       "<div>\n",
       "<style scoped>\n",
       "    .dataframe tbody tr th:only-of-type {\n",
       "        vertical-align: middle;\n",
       "    }\n",
       "\n",
       "    .dataframe tbody tr th {\n",
       "        vertical-align: top;\n",
       "    }\n",
       "\n",
       "    .dataframe thead th {\n",
       "        text-align: right;\n",
       "    }\n",
       "</style>\n",
       "<table border=\"1\" class=\"dataframe\">\n",
       "  <thead>\n",
       "    <tr style=\"text-align: right;\">\n",
       "      <th></th>\n",
       "      <th>GeocodOrigem</th>\n",
       "      <th>GeocodDestino</th>\n",
       "      <th>count</th>\n",
       "    </tr>\n",
       "  </thead>\n",
       "  <tbody>\n",
       "    <tr>\n",
       "      <th>3532</th>\n",
       "      <td>3550308</td>\n",
       "      <td>3106200</td>\n",
       "      <td>46</td>\n",
       "    </tr>\n",
       "    <tr>\n",
       "      <th>4043</th>\n",
       "      <td>5103403</td>\n",
       "      <td>5107602</td>\n",
       "      <td>42</td>\n",
       "    </tr>\n",
       "    <tr>\n",
       "      <th>346</th>\n",
       "      <td>2203909</td>\n",
       "      <td>2211001</td>\n",
       "      <td>41</td>\n",
       "    </tr>\n",
       "    <tr>\n",
       "      <th>254</th>\n",
       "      <td>2111102</td>\n",
       "      <td>2111953</td>\n",
       "      <td>37</td>\n",
       "    </tr>\n",
       "    <tr>\n",
       "      <th>279</th>\n",
       "      <td>2111953</td>\n",
       "      <td>2111102</td>\n",
       "      <td>35</td>\n",
       "    </tr>\n",
       "    <tr>\n",
       "      <th>1168</th>\n",
       "      <td>2927408</td>\n",
       "      <td>2908408</td>\n",
       "      <td>31</td>\n",
       "    </tr>\n",
       "    <tr>\n",
       "      <th>2611</th>\n",
       "      <td>3301009</td>\n",
       "      <td>3302205</td>\n",
       "      <td>30</td>\n",
       "    </tr>\n",
       "    <tr>\n",
       "      <th>3432</th>\n",
       "      <td>3549805</td>\n",
       "      <td>3525706</td>\n",
       "      <td>29</td>\n",
       "    </tr>\n",
       "    <tr>\n",
       "      <th>652</th>\n",
       "      <td>2611002</td>\n",
       "      <td>2924009</td>\n",
       "      <td>28</td>\n",
       "    </tr>\n",
       "    <tr>\n",
       "      <th>1026</th>\n",
       "      <td>2911709</td>\n",
       "      <td>2905206</td>\n",
       "      <td>27</td>\n",
       "    </tr>\n",
       "  </tbody>\n",
       "</table>\n",
       "</div>"
      ],
      "text/plain": [
       "      GeocodOrigem  GeocodDestino  count\n",
       "3532       3550308        3106200     46\n",
       "4043       5103403        5107602     42\n",
       "346        2203909        2211001     41\n",
       "254        2111102        2111953     37\n",
       "279        2111953        2111102     35\n",
       "1168       2927408        2908408     31\n",
       "2611       3301009        3302205     30\n",
       "3432       3549805        3525706     29\n",
       "652        2611002        2924009     28\n",
       "1026       2911709        2905206     27"
      ]
     },
     "execution_count": 171,
     "metadata": {},
     "output_type": "execute_result"
    }
   ],
   "source": [
    "df_dnit.sort_values(['freq_semanal'], ascending=False).head(10)\n",
    "#df_dnit.loc[df_dnit['count'].idxmax()]"
   ]
  },
  {
   "cell_type": "code",
   "execution_count": 172,
   "metadata": {},
   "outputs": [
    {
     "data": {
      "text/plain": [
       "count    4246.000000\n",
       "mean        1.903674\n",
       "std         2.906943\n",
       "min         1.000000\n",
       "25%         1.000000\n",
       "50%         1.000000\n",
       "75%         2.000000\n",
       "max        46.000000\n",
       "Name: count, dtype: float64"
      ]
     },
     "execution_count": 172,
     "metadata": {},
     "output_type": "execute_result"
    }
   ],
   "source": [
    "#Verificando distribuição de dados\n",
    "df_dnit[\"freq_semanal\"].describe()"
   ]
  },
  {
   "attachments": {},
   "cell_type": "markdown",
   "metadata": {},
   "source": [
    "Observações sobre os dados do DNIT:\n",
    "\n",
    "2016.1\n",
    "- O arquivo original do DNIT possui 212329 observações\n",
    "- Forama removidos as ligações com código de origem e destino faltante -> pelo que verifiquei são destinos fora do Brasil\n",
    "- Foram filtraos por P2, O1, O2 e O3 -> sobraram 3908 observaçoes\n",
    "- Após o groupBy foram encontrados X ocorrencias de GeocodOrigem == GeocodDestino\n",
    "- Essas ocorrencias foram retiradas do DF\n",
    "- Depois da remoção foram encontradas 2080 ligações\n",
    "- A ligação com o maior número de entrevista é GeocodOrigem:4314407, GeocodDestino:4315602, count:62.\n",
    " "
   ]
  },
  {
   "cell_type": "code",
   "execution_count": 173,
   "metadata": {},
   "outputs": [
    {
     "data": {
      "text/plain": [
       "<AxesSubplot: xlabel='count'>"
      ]
     },
     "execution_count": 173,
     "metadata": {},
     "output_type": "execute_result"
    },
    {
     "data": {
      "image/png": "[encoded data removed]",
      "text/plain": [
       "<Figure size 1000x600 with 1 Axes>"
      ]
     },
     "metadata": {},
     "output_type": "display_data"
    }
   ],
   "source": [
    "sns.boxplot(data=df_dnit, x=\"count\")"
   ]
  },
  {
   "attachments": {},
   "cell_type": "markdown",
   "metadata": {},
   "source": [
    "## Comparando dados do DNIT com IBGE"
   ]
  },
  {
   "attachments": {},
   "cell_type": "markdown",
   "metadata": {},
   "source": [
    "Consertando dados para fazer o merge"
   ]
  },
  {
   "cell_type": "code",
   "execution_count": 174,
   "metadata": {},
   "outputs": [
    {
     "data": {
      "text/plain": [
       "(130528, 3)"
      ]
     },
     "execution_count": 174,
     "metadata": {},
     "output_type": "execute_result"
    }
   ],
   "source": [
    "## Duplicando dados do IBGE para as ligações tenha os 2 sentidos\n",
    "\n",
    "df_ibge_1 = df_ibge[[\"CODMUNDV_A\", \"CODMUNDV_B\",\"VAR06\"]].copy(deep=True)\n",
    "df_ibge_2 = df_ibge[[\"CODMUNDV_A\", \"CODMUNDV_B\",\"VAR06\"]].copy(deep=True)\n",
    "df_ibge_2 = df_ibge_2.rename(columns={\"CODMUNDV_B\": \"CODMUNDV_A\", \"CODMUNDV_A\": \"CODMUNDV_B\"})\n",
    "df_ibge_final = pd.concat([df_ibge_1, df_ibge_2])\n",
    "df_ibge_final[df_ibge_final.duplicated()]\n",
    "\n",
    "## Removendo valores 0 de frequência\n",
    "df_ibge_final = df_ibge_final[df_ibge_final[\"VAR06\"]>0]\n",
    "df_ibge_final.shape"
   ]
  },
  {
   "attachments": {},
   "cell_type": "markdown",
   "metadata": {},
   "source": [
    "OBS.:\n",
    "Após duplicar os dados para conter os dois sentidos ficamos com 130528 ligações no dados do IBGE."
   ]
  },
  {
   "cell_type": "code",
   "execution_count": 175,
   "metadata": {},
   "outputs": [],
   "source": [
    "## Fazendo merge do DNIT e IBGE\n",
    "\n",
    "df = df_ibge_final.merge(df_dnit, left_on=['CODMUNDV_A','CODMUNDV_B'], right_on = ['GeocodOrigem','GeocodDestino'])\n",
    "df = df.drop(columns=['CODMUNDV_A', 'CODMUNDV_B'])\n",
    "df = df.rename(columns={\"VAR06\": \"ibge\", \"freq_semanal\": \"dnit\", \"GeocodOrigem\": \"origem\", \"GeocodDestino\": \"destino\"})\n",
    "\n",
    "columns_titles = [\"origem\",\"destino\", \"ibge\", \"dnit\"]\n",
    "df=df.reindex(columns=columns_titles)"
   ]
  },
  {
   "attachments": {},
   "cell_type": "markdown",
   "metadata": {},
   "source": [
    "Foram encontradas 1211 ligações após o merge."
   ]
  },
  {
   "attachments": {},
   "cell_type": "markdown",
   "metadata": {},
   "source": [
    "Verificando se os dados possuem a mesma tendência"
   ]
  },
  {
   "cell_type": "code",
   "execution_count": 176,
   "metadata": {},
   "outputs": [
    {
     "data": {
      "text/html": [
       "<div>\n",
       "<style scoped>\n",
       "    .dataframe tbody tr th:only-of-type {\n",
       "        vertical-align: middle;\n",
       "    }\n",
       "\n",
       "    .dataframe tbody tr th {\n",
       "        vertical-align: top;\n",
       "    }\n",
       "\n",
       "    .dataframe thead th {\n",
       "        text-align: right;\n",
       "    }\n",
       "</style>\n",
       "<table border=\"1\" class=\"dataframe\">\n",
       "  <thead>\n",
       "    <tr style=\"text-align: right;\">\n",
       "      <th></th>\n",
       "      <th>ibge</th>\n",
       "      <th>dnit</th>\n",
       "    </tr>\n",
       "  </thead>\n",
       "  <tbody>\n",
       "    <tr>\n",
       "      <th>ibge</th>\n",
       "      <td>1.000000</td>\n",
       "      <td>0.355933</td>\n",
       "    </tr>\n",
       "    <tr>\n",
       "      <th>dnit</th>\n",
       "      <td>0.355933</td>\n",
       "      <td>1.000000</td>\n",
       "    </tr>\n",
       "  </tbody>\n",
       "</table>\n",
       "</div>"
      ],
      "text/plain": [
       "          ibge      dnit\n",
       "ibge  1.000000  0.355933\n",
       "dnit  0.355933  1.000000"
      ]
     },
     "execution_count": 176,
     "metadata": {},
     "output_type": "execute_result"
    }
   ],
   "source": [
    "df[[\"ibge\",\"dnit\"]].corr()"
   ]
  },
  {
   "attachments": {},
   "cell_type": "markdown",
   "metadata": {},
   "source": [
    "Plotando dados no scatterplot"
   ]
  },
  {
   "cell_type": "code",
   "execution_count": 177,
   "metadata": {},
   "outputs": [
    {
     "data": {
      "text/plain": [
       "<AxesSubplot: xlabel='ibge', ylabel='dnit'>"
      ]
     },
     "execution_count": 177,
     "metadata": {},
     "output_type": "execute_result"
    },
    {
     "data": {
      "image/png": "[encoded data removed]",
      "text/plain": [
       "<Figure size 1000x600 with 1 Axes>"
      ]
     },
     "metadata": {},
     "output_type": "display_data"
    }
   ],
   "source": [
    "sns.set(rc={'figure.figsize':(10,6)})\n",
    "sns.scatterplot(data=df, x=\"ibge\", y=\"dnit\")"
   ]
  },
  {
   "cell_type": "code",
   "execution_count": 178,
   "metadata": {},
   "outputs": [
    {
     "data": {
      "text/plain": [
       "origem     3548500.0\n",
       "destino    3550308.0\n",
       "ibge          1182.0\n",
       "dnit             3.0\n",
       "Name: 1024, dtype: float64"
      ]
     },
     "execution_count": 178,
     "metadata": {},
     "output_type": "execute_result"
    }
   ],
   "source": [
    "df.loc[df['ibge'].idxmax()]\n",
    "# Porto Alegre\n",
    "# Tramandaí"
   ]
  }
 ],
 "metadata": {
  "kernelspec": {
   "display_name": "alerta_epidemia",
   "language": "python",
   "name": "python3"
  },
  "language_info": {
   "codemirror_mode": {
    "name": "ipython",
    "version": 3
   },
   "file_extension": ".py",
   "mimetype": "text/x-python",
   "name": "python",
   "nbconvert_exporter": "python",
   "pygments_lexer": "ipython3",
   "version": "3.9.13"
  },
  "orig_nbformat": 4,
  "vscode": {
   "interpreter": {
    "hash": "9592a5459ae577a64a4b4327be6192bc1dd736f2267b81751e05dc6d005bc327"
   }
  }
 },
 "nbformat": 4,
 "nbformat_minor": 2
}
