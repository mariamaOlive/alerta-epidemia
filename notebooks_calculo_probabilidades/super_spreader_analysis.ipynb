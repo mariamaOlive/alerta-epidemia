{
 "cells": [
  {
   "cell_type": "markdown",
   "metadata": {},
   "source": [
    "# Super spreader análise"
   ]
  },
  {
   "cell_type": "markdown",
   "metadata": {},
   "source": [
    "## Compilando os dados das cidades com potencia de super spreader"
   ]
  },
  {
   "cell_type": "code",
   "execution_count": 1,
   "metadata": {},
   "outputs": [],
   "source": [
    "import pandas as pd"
   ]
  },
  {
   "cell_type": "code",
   "execution_count": 2,
   "metadata": {},
   "outputs": [],
   "source": [
    "df_municipios = pd.read_csv(\"../data/integrado/municipio.csv\")\n",
    "df_municipios= df_municipios[df_municipios['latitude'].notna()]"
   ]
  },
  {
   "cell_type": "code",
   "execution_count": 41,
   "metadata": {},
   "outputs": [],
   "source": [
    "#Carregar arquivos em dataframe\n",
    "from os import listdir\n",
    "from os.path import isfile, join\n",
    "path = \"../data/calculado/calculo_spreader/dois\"\n",
    "nome_files = [f for f in listdir(path) if isfile(join(path, f))]\n",
    "\n"
   ]
  },
  {
   "cell_type": "code",
   "execution_count": 42,
   "metadata": {},
   "outputs": [],
   "source": [
    "dic_df = {}\n",
    "for nome_file in nome_files:\n",
    "    cod_cidade = int(nome_file[-11:-4])\n",
    "    dic_df[cod_cidade] = pd.read_csv(path+\"/\"+nome_file)"
   ]
  },
  {
   "cell_type": "code",
   "execution_count": 43,
   "metadata": {},
   "outputs": [],
   "source": [
    "#Somar três valores: total de caso na cidade, total de casos no restante do pais e total de caso\n",
    "lista_analise = []\n",
    "\n",
    "for cod_cidade in dic_df.keys():\n",
    "    # cod_cidade = 2611606\n",
    "    df_cidade = dic_df[cod_cidade]\n",
    "    filtro_cidade = df_cidade[\"cod_mun\"]==cod_cidade\n",
    "    num_cidade = df_cidade[filtro_cidade][\"dia_29\"].sum()\n",
    "    num_espalhamento = df_cidade[~filtro_cidade][\"dia_29\"].sum()\n",
    "    num_total = num_cidade + num_espalhamento\n",
    "    lista_analise.append((cod_cidade, num_cidade, num_espalhamento, num_total))\n"
   ]
  },
  {
   "cell_type": "code",
   "execution_count": 44,
   "metadata": {},
   "outputs": [],
   "source": [
    "df_analise = pd.DataFrame(lista_analise, columns=[\"cod_mun\",\"cidade\", \"espalhamento\", \"total\"])"
   ]
  },
  {
   "cell_type": "code",
   "execution_count": 30,
   "metadata": {},
   "outputs": [],
   "source": [
    "df_analise = pd.read_csv(\"../data/calculado/spreaders_test.csv\")\n"
   ]
  },
  {
   "cell_type": "code",
   "execution_count": 31,
   "metadata": {},
   "outputs": [],
   "source": [
    "df_analise = df_analise.merge(df_municipios[['cod_mun','nome_mun']], how='left', left_on='cod_mun', right_on='cod_mun')"
   ]
  },
  {
   "cell_type": "code",
   "execution_count": 34,
   "metadata": {},
   "outputs": [
    {
     "data": {
      "text/html": [
       "<div>\n",
       "<style scoped>\n",
       "    .dataframe tbody tr th:only-of-type {\n",
       "        vertical-align: middle;\n",
       "    }\n",
       "\n",
       "    .dataframe tbody tr th {\n",
       "        vertical-align: top;\n",
       "    }\n",
       "\n",
       "    .dataframe thead th {\n",
       "        text-align: right;\n",
       "    }\n",
       "</style>\n",
       "<table border=\"1\" class=\"dataframe\">\n",
       "  <thead>\n",
       "    <tr style=\"text-align: right;\">\n",
       "      <th></th>\n",
       "      <th>cod_mun</th>\n",
       "      <th>cidade</th>\n",
       "      <th>espalhamento</th>\n",
       "      <th>total</th>\n",
       "      <th>nome_mun</th>\n",
       "    </tr>\n",
       "  </thead>\n",
       "  <tbody>\n",
       "    <tr>\n",
       "      <th>3</th>\n",
       "      <td>3106200</td>\n",
       "      <td>43457.255150</td>\n",
       "      <td>3193.631993</td>\n",
       "      <td>46650.887143</td>\n",
       "      <td>Belo Horizonte</td>\n",
       "    </tr>\n",
       "    <tr>\n",
       "      <th>5</th>\n",
       "      <td>4106902</td>\n",
       "      <td>42376.851629</td>\n",
       "      <td>4143.353641</td>\n",
       "      <td>46520.205270</td>\n",
       "      <td>Curitiba</td>\n",
       "    </tr>\n",
       "    <tr>\n",
       "      <th>10</th>\n",
       "      <td>1302603</td>\n",
       "      <td>40380.681107</td>\n",
       "      <td>5944.117276</td>\n",
       "      <td>46324.798382</td>\n",
       "      <td>Manaus</td>\n",
       "    </tr>\n",
       "    <tr>\n",
       "      <th>0</th>\n",
       "      <td>3550308</td>\n",
       "      <td>39905.035775</td>\n",
       "      <td>6988.253160</td>\n",
       "      <td>46893.288935</td>\n",
       "      <td>São Paulo</td>\n",
       "    </tr>\n",
       "    <tr>\n",
       "      <th>1</th>\n",
       "      <td>3304557</td>\n",
       "      <td>39219.953821</td>\n",
       "      <td>7632.333495</td>\n",
       "      <td>46852.287316</td>\n",
       "      <td>Rio de Janeiro</td>\n",
       "    </tr>\n",
       "    <tr>\n",
       "      <th>13</th>\n",
       "      <td>1501402</td>\n",
       "      <td>39159.916207</td>\n",
       "      <td>7195.257228</td>\n",
       "      <td>46355.173434</td>\n",
       "      <td>Belém</td>\n",
       "    </tr>\n",
       "    <tr>\n",
       "      <th>7</th>\n",
       "      <td>2927408</td>\n",
       "      <td>39123.411386</td>\n",
       "      <td>7487.902233</td>\n",
       "      <td>46611.313619</td>\n",
       "      <td>Salvador</td>\n",
       "    </tr>\n",
       "    <tr>\n",
       "      <th>9</th>\n",
       "      <td>2304400</td>\n",
       "      <td>38869.924423</td>\n",
       "      <td>7728.243814</td>\n",
       "      <td>46598.168237</td>\n",
       "      <td>Fortaleza</td>\n",
       "    </tr>\n",
       "    <tr>\n",
       "      <th>11</th>\n",
       "      <td>5208707</td>\n",
       "      <td>38676.934135</td>\n",
       "      <td>7768.277625</td>\n",
       "      <td>46445.211760</td>\n",
       "      <td>Goiânia</td>\n",
       "    </tr>\n",
       "    <tr>\n",
       "      <th>8</th>\n",
       "      <td>2611606</td>\n",
       "      <td>38358.908001</td>\n",
       "      <td>8282.521957</td>\n",
       "      <td>46641.429958</td>\n",
       "      <td>Recife</td>\n",
       "    </tr>\n",
       "    <tr>\n",
       "      <th>4</th>\n",
       "      <td>4314902</td>\n",
       "      <td>38192.284563</td>\n",
       "      <td>8444.650141</td>\n",
       "      <td>46636.934704</td>\n",
       "      <td>Porto Alegre</td>\n",
       "    </tr>\n",
       "    <tr>\n",
       "      <th>12</th>\n",
       "      <td>3205309</td>\n",
       "      <td>35606.926299</td>\n",
       "      <td>10749.995897</td>\n",
       "      <td>46356.922196</td>\n",
       "      <td>Vitória</td>\n",
       "    </tr>\n",
       "    <tr>\n",
       "      <th>2</th>\n",
       "      <td>5300108</td>\n",
       "      <td>30223.723332</td>\n",
       "      <td>16525.034057</td>\n",
       "      <td>46748.757389</td>\n",
       "      <td>Brasília</td>\n",
       "    </tr>\n",
       "    <tr>\n",
       "      <th>14</th>\n",
       "      <td>4205407</td>\n",
       "      <td>29461.707142</td>\n",
       "      <td>16734.374069</td>\n",
       "      <td>46196.081211</td>\n",
       "      <td>Florianópolis</td>\n",
       "    </tr>\n",
       "    <tr>\n",
       "      <th>6</th>\n",
       "      <td>3509502</td>\n",
       "      <td>24496.746020</td>\n",
       "      <td>22192.594788</td>\n",
       "      <td>46689.340807</td>\n",
       "      <td>Campinas</td>\n",
       "    </tr>\n",
       "  </tbody>\n",
       "</table>\n",
       "</div>"
      ],
      "text/plain": [
       "    cod_mun        cidade  espalhamento         total        nome_mun\n",
       "3   3106200  43457.255150   3193.631993  46650.887143  Belo Horizonte\n",
       "5   4106902  42376.851629   4143.353641  46520.205270        Curitiba\n",
       "10  1302603  40380.681107   5944.117276  46324.798382          Manaus\n",
       "0   3550308  39905.035775   6988.253160  46893.288935       São Paulo\n",
       "1   3304557  39219.953821   7632.333495  46852.287316  Rio de Janeiro\n",
       "13  1501402  39159.916207   7195.257228  46355.173434           Belém\n",
       "7   2927408  39123.411386   7487.902233  46611.313619        Salvador\n",
       "9   2304400  38869.924423   7728.243814  46598.168237       Fortaleza\n",
       "11  5208707  38676.934135   7768.277625  46445.211760         Goiânia\n",
       "8   2611606  38358.908001   8282.521957  46641.429958          Recife\n",
       "4   4314902  38192.284563   8444.650141  46636.934704    Porto Alegre\n",
       "12  3205309  35606.926299  10749.995897  46356.922196         Vitória\n",
       "2   5300108  30223.723332  16525.034057  46748.757389        Brasília\n",
       "14  4205407  29461.707142  16734.374069  46196.081211   Florianópolis\n",
       "6   3509502  24496.746020  22192.594788  46689.340807        Campinas"
      ]
     },
     "execution_count": 34,
     "metadata": {},
     "output_type": "execute_result"
    }
   ],
   "source": [
    "df_analise.sort_values(by='cidade', ascending=False).head(50)"
   ]
  },
  {
   "cell_type": "code",
   "execution_count": 28,
   "metadata": {},
   "outputs": [
    {
     "data": {
      "text/plain": [
       "<AxesSubplot: xlabel='cidade', ylabel='espalhamento'>"
      ]
     },
     "execution_count": 28,
     "metadata": {},
     "output_type": "execute_result"
    },
    {
     "data": {
      "image/png": "[encoded data removed]",
      "text/plain": [
       "<Figure size 640x480 with 1 Axes>"
      ]
     },
     "metadata": {},
     "output_type": "display_data"
    }
   ],
   "source": [
    "import seaborn as sns\n",
    "sns.scatterplot(data=df_analise, x=\"cidade\", y=\"espalhamento\")"
   ]
  },
  {
   "cell_type": "markdown",
   "metadata": {},
   "source": [
    "### Escrever resultado\n",
    "\n",
    "TODO: Escrever resultado depois de agrupar"
   ]
  },
  {
   "cell_type": "code",
   "execution_count": 65,
   "metadata": {},
   "outputs": [],
   "source": [
    "#Escrever em csv resultado\n",
    "# tb_municipio.to_csv(\"../data/integrado/municipio.csv\", index=False)"
   ]
  }
 ],
 "metadata": {
  "kernelspec": {
   "display_name": "Python 3.9.13 ('alerta_epidemia')",
   "language": "python",
   "name": "python3"
  },
  "language_info": {
   "codemirror_mode": {
    "name": "ipython",
    "version": 3
   },
   "file_extension": ".py",
   "mimetype": "text/x-python",
   "name": "python",
   "nbconvert_exporter": "python",
   "pygments_lexer": "ipython3",
   "version": "3.9.13"
  },
  "orig_nbformat": 4,
  "vscode": {
   "interpreter": {
    "hash": "9592a5459ae577a64a4b4327be6192bc1dd736f2267b81751e05dc6d005bc327"
   }
  }
 },
 "nbformat": 4,
 "nbformat_minor": 2
}
