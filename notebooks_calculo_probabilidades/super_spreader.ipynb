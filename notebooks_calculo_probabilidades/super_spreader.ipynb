{
 "cells": [
  {
   "cell_type": "code",
   "execution_count": 1,
   "metadata": {},
   "outputs": [],
   "source": [
    "from neo4j import GraphDatabase\n",
    "import pandas as pd\n",
    "import numpy as np"
   ]
  },
  {
   "cell_type": "markdown",
   "metadata": {},
   "source": [
    "## Construindo Grid de Cidades "
   ]
  },
  {
   "cell_type": "code",
   "execution_count": 55,
   "metadata": {},
   "outputs": [],
   "source": [
    "#Carregando dados de Município\n",
    "df_municipios = pd.read_csv(\"../data/integrado/municipio.csv\")\n",
    "df_municipios= df_municipios[df_municipios['latitude'].notna()]\n",
    "\n",
    "#Carregando dados de fluxo\n",
    "df_fluxo = pd.read_csv(\"../data/calculado/fluxo_prob_qtd.csv\")\n",
    "df_fluxo = df_fluxo.drop_duplicates()\n",
    "df_fluxo= df_fluxo[df_fluxo[\"cod_origem\"].isin(df_municipios[\"cod_mun\"])]\n",
    "df_fluxo= df_fluxo[df_fluxo[\"cod_destino\"].isin(df_municipios[\"cod_mun\"])]\n"
   ]
  },
  {
   "cell_type": "code",
   "execution_count": 56,
   "metadata": {},
   "outputs": [
    {
     "data": {
      "text/plain": [
       "13193.753424657534"
      ]
     },
     "execution_count": 56,
     "metadata": {},
     "output_type": "execute_result"
    }
   ],
   "source": [
    "df_fluxo[df_fluxo[\"cod_origem\"]==2803302][\"total_pessoas\"].sum()/365"
   ]
  },
  {
   "cell_type": "code",
   "execution_count": 5,
   "metadata": {},
   "outputs": [],
   "source": [
    "#Criando dataframe com resultados\n",
    "df_si = pd.DataFrame(df_municipios[[\"cod_mun\", \"populacao_2021\"]])\n",
    "df_si = df_si.set_index('cod_mun')\n",
    "\n",
    "#Inicializa todos os municipios com 0 infectados\n",
    "df_si[\"dia_0\"] = 0.0\n",
    "\n",
    "#Municipio Incial\n",
    "municipio_zero = 5300108 #Brasilia\n",
    "df_si.loc[municipio_zero,\"dia_0\"] = 1 #Somente a cidade zero possui infeccao\n",
    "\n",
    "#Numero de dias a executar o modelo\n",
    "nDias =  40"
   ]
  },
  {
   "cell_type": "code",
   "execution_count": 6,
   "metadata": {},
   "outputs": [],
   "source": [
    "def conexoesCidade(df_fluxo, cidadeAtual):\n",
    "    df_fluxo_saida = df_fluxo[df_fluxo[\"cod_origem\"] == cidadeAtual]\n",
    "    df_fluxo_entrada = df_fluxo[df_fluxo[\"cod_destino\"] == cidadeAtual]\n",
    "\n",
    "    listaCidades_1 = df_fluxo_saida[\"cod_destino\"].tolist()\n",
    "    listaCidades_2 = df_fluxo_entrada[\"cod_origem\"].tolist()\n",
    "    listaFinal =  set(listaCidades_1 + listaCidades_2)\n",
    "    return listaFinal"
   ]
  },
  {
   "cell_type": "code",
   "execution_count": 7,
   "metadata": {},
   "outputs": [],
   "source": [
    "#Encontrar as conexoes de todas as cidade\n",
    "lista_mun = df_municipios[\"cod_mun\"].tolist()\n",
    "lista_conexoes = []\n",
    "for cod_mun in lista_mun:\n",
    "    lista_conexoes.append(conexoesCidade(df_fluxo, cod_mun))\n",
    "\n",
    "df_si['conexoes'] = lista_conexoes"
   ]
  },
  {
   "cell_type": "code",
   "execution_count": 8,
   "metadata": {},
   "outputs": [],
   "source": [
    "lista_mun = df_municipios[\"cod_mun\"].tolist()"
   ]
  },
  {
   "cell_type": "code",
   "execution_count": 9,
   "metadata": {},
   "outputs": [
    {
     "data": {
      "text/plain": [
       "5570"
      ]
     },
     "execution_count": 9,
     "metadata": {},
     "output_type": "execute_result"
    }
   ],
   "source": [
    "len(lista_mun)"
   ]
  },
  {
   "cell_type": "code",
   "execution_count": 10,
   "metadata": {},
   "outputs": [],
   "source": [
    "lista_mun = df_fluxo[df_fluxo[\"cod_origem\"]==municipio_zero][\"cod_destino\"].tolist()\n",
    "lista_mun.append(municipio_zero)"
   ]
  },
  {
   "cell_type": "code",
   "execution_count": 41,
   "metadata": {},
   "outputs": [
    {
     "name": "stdout",
     "output_type": "stream",
     "text": [
      "1\n",
      "2\n",
      "3\n",
      "4\n",
      "5\n",
      "6\n",
      "7\n",
      "8\n",
      "9\n",
      "10\n",
      "11\n",
      "12\n",
      "13\n",
      "14\n",
      "15\n",
      "16\n",
      "17\n",
      "18\n",
      "19\n",
      "20\n",
      "21\n",
      "22\n",
      "23\n",
      "24\n",
      "25\n",
      "26\n",
      "27\n",
      "28\n",
      "29\n"
     ]
    }
   ],
   "source": [
    "cidadeAtual = municipio_zero\n",
    "r = .2  #Taxa de transmissão da doenca\n",
    "s = 1 #Parametro livre usado pra corrigir superestimacao ou baixaextimacao das entradas e saidas da cidade\n",
    "        \n",
    "for dia in range(1, 30):\n",
    "    infeccoesDia = []\n",
    "    print(dia)\n",
    "    # for cidadeAtual in lista_mun:\n",
    "        # print(cidadeAtual)\n",
    "        # existeProximaCidade  =  True\n",
    "        # df_si[f\"dia_{dia}\"] = 0.0\n",
    "\n",
    "        # while(existeProximaCidade):    \n",
    "\n",
    "    N = df_si.loc[cidadeAtual,\"populacao_2021\"]#populacao do conjunto\n",
    "    I = df_si.loc[cidadeAtual,f\"dia_{dia-1}\"] # Infectados na populacao\n",
    "\n",
    "    #Valor da contaminacao interna\n",
    "    dInterna = (r)*I*((N-I)/N)\n",
    "\n",
    "    #Calculo do Valor da contaminacao externa\n",
    "    #Fitrar todas as ligacoes que a cidade possui (Entrada e Saída de pessoas)\n",
    "    df_fluxo_saida = pd.DataFrame(df_fluxo[df_fluxo[\"cod_origem\"] == cidadeAtual]).set_index('cod_destino')\n",
    "    df_fluxo_entrada = pd.DataFrame(df_fluxo[df_fluxo[\"cod_destino\"] == cidadeAtual]).set_index('cod_origem')\n",
    "\n",
    "    listaConexoes = df_si.loc[cidadeAtual,\"conexoes\"]\n",
    "\n",
    "    somaEntrada = 0\n",
    "    somaSaida = 0\n",
    "    # for conexao in listaConexoes:\n",
    "\n",
    "    #     #Verifica se há conexao de entrada\n",
    "    #     if(conexao in df_fluxo_entrada.index):\n",
    "    #         Nd = df_si.loc[conexao,\"populacao_2021\"] #Populacao da cidade vizinha\n",
    "    #         Md = df_fluxo_entrada.loc[conexao, \"total_pessoas\"]/365 #Numero de pessoas entrando da outra cidade\n",
    "    #         Id = df_si.loc[conexao,f\"dia_{dia-1}\"] # Numero de infectados da cidade vizinha\n",
    "    #         somaEntrada += (Md/Nd)*Id\n",
    "\n",
    "    #     #Verifica se há conexao de saída\n",
    "    #     if(conexao in df_fluxo_saida.index):\n",
    "    #         M = df_fluxo_saida.loc[conexao, \"total_pessoas\"]/365\n",
    "    #         somaSaida += (M/N)*I\n",
    "        \n",
    "    dExterna = s*(somaEntrada - somaSaida)\n",
    "    dExternaCorrigida = dExterna if dExterna>0 else 0\n",
    "    dTotal = dInterna + dExternaCorrigida\n",
    "    novoI = I + dTotal\n",
    "    df_si.loc[cidadeAtual,f\"dia_{dia}\"] = novoI\n",
    "    # print(novoI)\n",
    "    # infeccoesDia.append(novoI) #\n",
    "    # df_si[f\"dia_{dia}\"] = infeccoesDia #\n"
   ]
  },
  {
   "cell_type": "code",
   "execution_count": 43,
   "metadata": {},
   "outputs": [
    {
     "data": {
      "text/plain": [
       "populacao_2021                                            3094325.0\n",
       "dia_0                                                           1.0\n",
       "conexoes          {2603009, 2918407, 2103307, 4108304, 3502101, ...\n",
       "dia_1                                                           1.2\n",
       "dia_2                                                          1.44\n",
       "dia_3                                                         1.728\n",
       "dia_4                                                      2.073599\n",
       "dia_5                                                      2.488319\n",
       "dia_6                                                      2.985982\n",
       "dia_7                                                      3.583178\n",
       "dia_8                                                      4.299813\n",
       "dia_9                                                      5.159775\n",
       "dia_10                                                     6.191728\n",
       "dia_11                                                     7.430071\n",
       "dia_12                                                     8.916081\n",
       "dia_13                                                    10.699293\n",
       "dia_14                                                    12.839144\n",
       "dia_15                                                    15.406962\n",
       "dia_16                                                    18.488339\n",
       "dia_17                                                    22.185984\n",
       "dia_18                                                     26.62315\n",
       "dia_19                                                    31.947734\n",
       "dia_20                                                    38.337214\n",
       "dia_21                                                    46.004562\n",
       "dia_22                                                    55.205338\n",
       "dia_23                                                    66.246209\n",
       "dia_24                                                    79.495167\n",
       "dia_25                                                    95.393792\n",
       "dia_26                                                   114.471962\n",
       "dia_27                                                   137.365507\n",
       "Name: 5300108, dtype: object"
      ]
     },
     "execution_count": 43,
     "metadata": {},
     "output_type": "execute_result"
    }
   ],
   "source": [
    "df_si.loc[cidadeAtual][0:30]"
   ]
  },
  {
   "cell_type": "markdown",
   "metadata": {},
   "source": [
    "Selecionando Municipio"
   ]
  },
  {
   "cell_type": "code",
   "execution_count": 13,
   "metadata": {},
   "outputs": [
    {
     "name": "stderr",
     "output_type": "stream",
     "text": [
      "C:\\Users\\mcso\\AppData\\Local\\Temp\\ipykernel_25216\\2945880262.py:40: MatplotlibDeprecationWarning: The 'b' parameter of grid() has been renamed 'visible' since Matplotlib 3.5; support for the old name will be dropped two minor releases later.\n",
      "  ax.grid(b=True, which='major', c='w', lw=2, ls='-')\n"
     ]
    },
    {
     "data": {
      "image/png": "[encoded data removed]",
      "text/plain": [
       "<Figure size 432x288 with 1 Axes>"
      ]
     },
     "metadata": {},
     "output_type": "display_data"
    }
   ],
   "source": [
    "import numpy as np\n",
    "from scipy.integrate import odeint\n",
    "import matplotlib.pyplot as plt\n",
    "\n",
    "# Total population, N.\n",
    "N = 12000000\n",
    "# Initial number of infected and recovered individuals, I0 and R0.\n",
    "I0, R0 = 1, 0\n",
    "# Everyone else, S0, is susceptible to infection initially.\n",
    "S0 = N - I0 - R0\n",
    "# Contact rate, beta, and mean recovery rate, gamma, (in 1/days).\n",
    "beta, gamma = 0.2, 1./10 \n",
    "# A grid of time points (in days)\n",
    "t = np.linspace(0, 60, 60)\n",
    "\n",
    "# The SIR model differential equations.\n",
    "def deriv(y, t, N, beta, gamma):\n",
    "    S, I = y\n",
    "    dSdt = -beta * S * I / N   \n",
    "    dIdt = beta * S * I / N \n",
    "    return dSdt, dIdt\n",
    "\n",
    "# Initial conditions vector\n",
    "y0 = S0, I0\n",
    "# Integrate the SIR equations over the time grid, t.\n",
    "ret = odeint(deriv, y0, t, args=(N, beta, gamma))\n",
    "S, I = ret.T\n",
    "\n",
    "# Plot the data on three separate curves for S(t), I(t) and R(t)\n",
    "fig = plt.figure(facecolor='w')\n",
    "ax = fig.add_subplot(111, facecolor='#dddddd', axisbelow=True)\n",
    "ax.plot(t, S/1000, 'b', alpha=0.5, lw=2, label='Susceptible')\n",
    "ax.plot(t, I/1000, 'r', alpha=0.5, lw=2, label='Infected')\n",
    "# ax.plot(t, R/1000, 'g', alpha=0.5, lw=2, label='Recovered with immunity')\n",
    "ax.set_xlabel('Time /days')\n",
    "ax.set_ylabel('Number (1000s)')\n",
    "ax.set_ylim(0,1.2)\n",
    "ax.yaxis.set_tick_params(length=0)\n",
    "ax.xaxis.set_tick_params(length=0)\n",
    "ax.grid(b=True, which='major', c='w', lw=2, ls='-')\n",
    "legend = ax.legend()\n",
    "legend.get_frame().set_alpha(0.5)\n",
    "for spine in ('top', 'right', 'bottom', 'left'):\n",
    "    ax.spines[spine].set_visible(False)\n",
    "plt.show()"
   ]
  },
  {
   "cell_type": "code",
   "execution_count": 63,
   "metadata": {},
   "outputs": [
    {
     "data": {
      "text/plain": [
       "60"
      ]
     },
     "execution_count": 63,
     "metadata": {},
     "output_type": "execute_result"
    }
   ],
   "source": [
    "len(I)\n",
    "1.0,1.2176999792497598,1.4827932339641168,1.8055972753750549,\n",
    "2.1986757345746555,2.6773273416812677,3.2601813552258667,3.9699226157087564,\n",
    "4.834174442118856,5.8865737332507635,7.168080115947365,8.728570091013383,\n",
    "10.62877821890921,12.942660892992219,15.760274693473228,19.191281340168945,\n",
    "23.369215645502756,28.456682559406275,34.651685549408555,42.19533257789797,\n",
    "51.38121953544463,62.566856247100546,76.1875796230387,92.77349526135642,\n",
    "112.9701065843069,137.56343396849593,167.5106008729362,203.97707643677484,\n",
    "248.3820226316923,302.45350880562364"
   ]
  },
  {
   "cell_type": "code",
   "execution_count": 17,
   "metadata": {},
   "outputs": [
    {
     "data": {
      "text/plain": [
       "array([  1.        ,   1.2255501 ,   1.50197306,   1.84074323,\n",
       "         2.25592313,   2.76474673,   3.38833555,   4.15257483,\n",
       "         5.08918827,   6.23705476,   7.64382238,   9.36788619,\n",
       "        11.48081216,  14.07030784,  17.24386314,  21.13321198,\n",
       "        25.89980056,  31.74148864,  38.90076252,  47.67479999,\n",
       "        58.4278053 ,  71.60612608,  87.75677949, 107.55015575,\n",
       "       131.80784164, 161.53671803, 197.97074579, 242.62217188,\n",
       "       297.34427987])"
      ]
     },
     "execution_count": 17,
     "metadata": {},
     "output_type": "execute_result"
    }
   ],
   "source": [
    "I [:29]"
   ]
  },
  {
   "cell_type": "code",
   "execution_count": null,
   "metadata": {},
   "outputs": [],
   "source": [
    "1.0,1.2176999792497598,1.4827932339641168,1.8055972753750549,\n",
    "2.1986757345746555,2.6773273416812677,3.2601813552258667,3.9699226157087564,\n",
    "4.834174442118856,5.8865737332507635,7.168080115947365,8.728570091013383,\n",
    "10.62877821890921,12.942660892992219,15.760274693473228,19.191281340168945,\n",
    "23.369215645502756,28.456682559406275,34.651685549408555,42.19533257789797,\n",
    "51.38121953544463,62.566856247100546,76.1875796230387,92.77349526135642,\n",
    "112.9701065843069,137.56343396849593,167.5106008729362,203.97707643677484,\n",
    "248.3820226316923,302.45350880562364"
   ]
  },
  {
   "cell_type": "code",
   "execution_count": 12,
   "metadata": {},
   "outputs": [
    {
     "data": {
      "image/png": "[encoded data removed]",
      "text/plain": [
       "<Figure size 432x288 with 1 Axes>"
      ]
     },
     "metadata": {
      "needs_background": "light"
     },
     "output_type": "display_data"
    }
   ],
   "source": [
    "import numpy as np\n",
    "import matplotlib.pyplot as plt\n",
    "\n",
    "dt = 0.2\n",
    "U0 = 1\n",
    "T = 4\n",
    "N = int(T/dt)\n",
    "t = np.zeros(N+1)\n",
    "u = np.zeros(N+1)\n",
    "t[0] = 0\n",
    "u[0] = U0\n",
    "for n in range(N):\n",
    "    t[n+1] = t[n] + dt\n",
    "    u[n+1] = (1 + dt)*u[n]\n",
    "plt.plot(t,u)\n",
    "plt.show()"
   ]
  },
  {
   "cell_type": "code",
   "execution_count": null,
   "metadata": {},
   "outputs": [],
   "source": [
    "df_fluxo = pd.read_csv(\"../data/calculado/fluxo_prob_qtd.csv\")"
   ]
  },
  {
   "cell_type": "code",
   "execution_count": 18,
   "metadata": {},
   "outputs": [
    {
     "data": {
      "text/plain": [
       "array([22, 11, 13])"
      ]
     },
     "execution_count": 18,
     "metadata": {},
     "output_type": "execute_result"
    }
   ],
   "source": [
    "M = np.array([[0, 1, 3],\n",
    "              [4, 0, 2],\n",
    "              [1, 5, 0]])\n",
    "\n",
    "I = np.array([1,5,2])\n",
    "\n",
    "np.matmul(I, M)\n",
    "\n"
   ]
  },
  {
   "cell_type": "code",
   "execution_count": 19,
   "metadata": {},
   "outputs": [
    {
     "data": {
      "text/plain": [
       "array([11,  8, 26])"
      ]
     },
     "execution_count": 19,
     "metadata": {},
     "output_type": "execute_result"
    }
   ],
   "source": [
    "zero = np.zeros([M.shape[0]])\n",
    "np.fill_diagonal(M, zero) #Zero diagonal of move matriz\n",
    "Iout = np.matmul(M, I) \n",
    "Iout"
   ]
  },
  {
   "cell_type": "code",
   "execution_count": 25,
   "metadata": {},
   "outputs": [
    {
     "data": {
      "text/plain": [
       "array([4, 6, 6])"
      ]
     },
     "execution_count": 25,
     "metadata": {},
     "output_type": "execute_result"
    }
   ],
   "source": [
    "M.sum(axis=1)"
   ]
  },
  {
   "cell_type": "code",
   "execution_count": 26,
   "metadata": {},
   "outputs": [
    {
     "data": {
      "text/plain": [
       "array([ 4, 30, 12])"
      ]
     },
     "execution_count": 26,
     "metadata": {},
     "output_type": "execute_result"
    }
   ],
   "source": [
    "res = M.sum(axis=1)*I\n",
    "res"
   ]
  },
  {
   "cell_type": "markdown",
   "metadata": {},
   "source": []
  }
 ],
 "metadata": {
  "kernelspec": {
   "display_name": "Python 3.9.13 ('alerta_pandemia')",
   "language": "python",
   "name": "python3"
  },
  "language_info": {
   "codemirror_mode": {
    "name": "ipython",
    "version": 3
   },
   "file_extension": ".py",
   "mimetype": "text/x-python",
   "name": "python",
   "nbconvert_exporter": "python",
   "pygments_lexer": "ipython3",
   "version": "3.9.13"
  },
  "orig_nbformat": 4,
  "vscode": {
   "interpreter": {
    "hash": "44f944259305b263f44d45f5c10e39fd59df7f42ce5762ecf826475b51c05c89"
   }
  }
 },
 "nbformat": 4,
 "nbformat_minor": 2
}
