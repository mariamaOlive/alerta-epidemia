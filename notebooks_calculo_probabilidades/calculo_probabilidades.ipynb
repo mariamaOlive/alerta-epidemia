{
 "cells": [
  {
   "cell_type": "markdown",
   "metadata": {},
   "source": [
    "# Calculo de Probabilidade de Viagem\n",
    "\n",
    "Este notebook calcula a probabilidade de uma pessoa infectada viajar para um determinadas cidade a qual possui conexão."
   ]
  },
  {
   "cell_type": "code",
   "execution_count": 1,
   "metadata": {},
   "outputs": [],
   "source": [
    "import pandas as pd\n",
    "import numpy as np"
   ]
  },
  {
   "cell_type": "code",
   "execution_count": 2,
   "metadata": {},
   "outputs": [],
   "source": [
    "df_municipio = pd.read_csv(\"data/integrado/municipio.csv\")\n",
    "df_fluxo_aereo = pd.read_csv(\"data/integrado/fluxo_aereo.csv\")\n",
    "df_fluxo_rodoviario = pd.read_csv(\"data/integrado/fluxo_rodoviario.csv\")"
   ]
  },
  {
   "cell_type": "markdown",
   "metadata": {},
   "source": [
    "Funções de extração dos dados"
   ]
  },
  {
   "cell_type": "code",
   "execution_count": 37,
   "metadata": {},
   "outputs": [],
   "source": [
    "def info_cidade(codigo_municipio, df_municipio, df_fluxo_aereo, df_fluxo_rodoviario):\n",
    "    \n",
    "    #Consultando valores nos dataframe a partir do código da cidade\n",
    "    total_populacao = df_municipio[df_municipio.cod_mun == codigo_municipio].populacao_2021\n",
    "    \n",
    "    df_aereo = df_fluxo_aereo[df_fluxo_aereo.cod_mun_origem == codigo_municipio][['cod_mun_destino', 'total_passagens_2020']].rename(columns={\"cod_mun_destino\": \"cod_mun\"})\n",
    "    \n",
    "    \n",
    "    df_rod_1 = df_fluxo_rodoviario[(df_fluxo_rodoviario.cod_mun_a == codigo_municipio)][['cod_mun_b', 'freq_saida_2016']].rename(columns={\"cod_mun_b\": \"cod_mun\"})\n",
    "    df_rod_2 = df_fluxo_rodoviario[(df_fluxo_rodoviario.cod_mun_b == codigo_municipio)][['cod_mun_a', 'freq_saida_2016']].rename(columns={\"cod_mun_a\": \"cod_mun\"})\n",
    "    df_rod = df_rod_1.append(df_rod_2, ignore_index=True).sort_values(by=['freq_saida_2016'])\n",
    "    \n",
    "    df_fluxo = df_aereo.merge(df_rod[['cod_mun', 'freq_saida_2016']], how='outer', left_on='cod_mun', right_on='cod_mun')\n",
    "    df_fluxo = df_aereo #TODO: Remover esta linha quando adicionar o rodoviario -> Bug do código 0\n",
    "    df_fluxo.fillna(0, inplace = True)\n",
    "\n",
    "    df_fluxo = df_fluxo.merge(df_municipio[['cod_mun', 'populacao_2021']], how='left', left_on='cod_mun', right_on='cod_mun')\n",
    "    \n",
    "    lista_fluxo = list(df_fluxo.itertuples(index=False, name=None))\n",
    "    \n",
    "    return (total_populacao, lista_fluxo)"
   ]
  },
  {
   "cell_type": "markdown",
   "metadata": {},
   "source": [
    "Calculo da Probabilidade"
   ]
  },
  {
   "cell_type": "code",
   "execution_count": 40,
   "metadata": {},
   "outputs": [],
   "source": [
    "FATOR_RODOV = 20 *365\n",
    "\n",
    "## Calculando as probabilidade de viajar e estar infectado\n",
    "total_populacao, lista_fluxo= info_cidade(2611606, df_municipio, df_fluxo_aereo, df_fluxo_rodoviario)\n",
    "fluxo_total = sum(j for i, j, k in lista_fluxo)\n",
    "fluxo_total += sum(k for i, j, k in lista_fluxo) * FATOR_RODOV ##Valor que tem que mudar, essa é minha estimativa\n",
    "\n",
    "numero_infectados = 10\n",
    "prob_infectado = numero_infectados / total_populacao\n",
    "\n",
    "prob_final = []\n",
    "for codigo, fluxo_aereo, fluxo_rodo in lista_fluxo:\n",
    "    # print(f\"{codigo} - {fluxo_aereo} - {fluxo_rodo}\")\n",
    "\n",
    "    fluxo = fluxo_aereo #+ fluxo_rodo * FATOR_RODOV\n",
    "    prob_viajar = fluxo / fluxo_total\n",
    "\n",
    "    prob_final.append((codigo, prob_viajar))"
   ]
  },
  {
   "cell_type": "code",
   "execution_count": 41,
   "metadata": {},
   "outputs": [
    {
     "name": "stdout",
     "output_type": "stream",
     "text": [
      "São Paulo - 5.891155591278939e-07\n",
      "Rio de Janeiro - 1.9969813711772068e-07\n",
      "Brasília - 1.8229774444683982e-07\n",
      "Fortaleza - 1.4628603298148535e-07\n",
      "Salvador - 8.608658530165445e-08\n",
      "Manaus - 6.466345499985517e-08\n",
      "Porto Alegre - 6.16505066109836e-08\n",
      "Belo Horizonte - 4.537278612587438e-08\n",
      "Campinas - 4.430552920338582e-08\n",
      "Fernando de Noronha - 4.18364713615517e-08\n",
      "Curitiba - 4.1272056642927936e-08\n",
      "Belém - 4.0126807868411365e-08\n",
      "Goiânia - 3.807233829262088e-08\n",
      "Cuiabá - 3.615948550077599e-08\n",
      "Petrolina - 2.61601091039216e-08\n",
      "Vitória - 2.590355695909262e-08\n",
      "São Luís - 2.5624428225518687e-08\n",
      "Teresina - 2.460642931483729e-08\n",
      "Florianópolis - 2.3863454303412558e-08\n",
      "Itajaí - 2.225025441672792e-08\n",
      "Campo Grande - 2.048928049462179e-08\n",
      "Aracaju - 1.3443332389038638e-08\n",
      "Porto Velho - 1.333455427963115e-08\n",
      "Uberlândia - 1.186091875973348e-08\n",
      "Foz do Iguaçu - 1.162899562080808e-08\n",
      "Juazeiro do Norte - 9.31386906587135e-09\n",
      "Palmas - 7.3004478332535015e-09\n",
      "Maringá - 6.625202588063622e-09\n",
      "Macapá - 5.299341103587445e-09\n",
      "Boa Vista - 5.00584544990309e-09\n",
      "Natal - 4.550208840686819e-09\n",
      "Marabá - 4.322390536078683e-09\n",
      "Maceió - 3.1381458355481036e-09\n",
      "Rio Branco - 2.941113788319446e-09\n",
      "Santarém - 2.7584486612012105e-09\n",
      "Montes Claros - 2.3130741377780986e-09\n",
      "Altamira - 5.336284612442818e-10\n",
      "João Pessoa - 5.295236269270181e-10\n",
      "Parintins - 1.231450295179112e-11\n",
      "Laranjal do Jari - 8.209668634527413e-12\n",
      "Breves - 4.1048343172637065e-12\n",
      "Juína - 4.1048343172637065e-12\n",
      "Ribeirão Preto - 0.0\n",
      "Londrina - 0.0\n",
      "São José do Rio Preto - 0.0\n",
      "Imperatriz - 0.0\n",
      "Joinville - 0.0\n",
      "Caxias do Sul - 0.0\n",
      "Chapecó - 0.0\n",
      "Mossoró - 0.0\n",
      "Presidente Prudente - 0.0\n",
      "Cascavel - 0.0\n",
      "Vitória da Conquista - 0.0\n",
      "Bauru - 0.0\n",
      "Ilhéus - 0.0\n",
      "Jaguaruna - 0.0\n",
      "Passo Fundo - 0.0\n",
      "Araçatuba - 0.0\n",
      "Marília - 0.0\n",
      "Porto Seguro - 0.0\n",
      "Uberaba - 0.0\n",
      "Sinop - 0.0\n",
      "Juiz de Fora - 0.0\n",
      "Campina Grande - 0.0\n",
      "Barreiras - 0.0\n",
      "Ponta Grossa - 0.0\n",
      "Parauapebas - 0.0\n",
      "Tabatinga - 0.0\n",
      "Cacoal - 0.0\n",
      "Dourados - 0.0\n",
      "Governador Valadares - 0.0\n",
      "Três Lagoas - 0.0\n",
      "Pelotas - 0.0\n",
      "Varginha - 0.0\n",
      "Teixeira de Freitas - 0.0\n",
      "Alta Floresta - 0.0\n",
      "Ji-Paraná - 0.0\n",
      "Corumbá - 0.0\n",
      "Lençóis - 0.0\n",
      "São José dos Campos - 0.0\n",
      "Rio Verde - 0.0\n",
      "Caldas Novas - 0.0\n",
      "Santo Ângelo - 0.0\n",
      "Vilhena - 0.0\n",
      "Cruzeiro do Sul - 0.0\n",
      "Uruguaiana - 0.0\n",
      "Santa Maria - 0.0\n",
      "Barra do Garças - 0.0\n",
      "Tefé - 0.0\n",
      "Campos dos Goytacazes - 0.0\n",
      "Cruz - 0.0\n",
      "Araxá - 0.0\n",
      "Valença - 0.0\n"
     ]
    }
   ],
   "source": [
    "prob_final.sort(key=lambda x:-x[1])\n",
    "for cod_mun, prob in prob_final:\n",
    "    nome = df_municipio.loc[df_municipio.cod_mun==cod_mun, 'nome_mun'].values[0]\n",
    "    print(f\"{nome} - {prob}\")"
   ]
  },
  {
   "cell_type": "code",
   "execution_count": 36,
   "metadata": {},
   "outputs": [
    {
     "data": {
      "text/plain": [
       "0.05402638218731237"
      ]
     },
     "execution_count": 36,
     "metadata": {},
     "output_type": "execute_result"
    }
   ],
   "source": []
  }
 ],
 "metadata": {
  "kernelspec": {
   "display_name": "Python 3.9.7 ('data_science')",
   "language": "python",
   "name": "python3"
  },
  "language_info": {
   "codemirror_mode": {
    "name": "ipython",
    "version": 3
   },
   "file_extension": ".py",
   "mimetype": "text/x-python",
   "name": "python",
   "nbconvert_exporter": "python",
   "pygments_lexer": "ipython3",
   "version": "3.9.7"
  },
  "orig_nbformat": 4,
  "vscode": {
   "interpreter": {
    "hash": "f26d610b3c002a6a254868315f4be89057fe31d7975ecd9eafd795277f4a743e"
   }
  }
 },
 "nbformat": 4,
 "nbformat_minor": 2
}
